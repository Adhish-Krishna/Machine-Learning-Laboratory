{
 "cells": [
  {
   "cell_type": "markdown",
   "metadata": {},
   "source": [
    "## Identifying the null values and removing them using **pandas**"
   ]
  },
  {
   "cell_type": "code",
   "execution_count": null,
   "metadata": {},
   "outputs": [],
   "source": [
    "import pandas as pd"
   ]
  },
  {
   "cell_type": "code",
   "execution_count": 27,
   "metadata": {},
   "outputs": [
    {
     "name": "stdout",
     "output_type": "stream",
     "text": [
      "   Gender Married Dependents  LoanAmount  Loan_Amount_Term  Credit_History  \\\n",
      "0    Male     Yes          0       100.0             360.0             1.0   \n",
      "1  Female     NaN          1       200.0             360.0             1.0   \n",
      "2    Male     Yes        NaN       300.0             360.0             0.0   \n",
      "3    Male      No        NaN       400.0             360.0             1.0   \n",
      "4  Female     Yes          0         NaN               NaN             1.0   \n",
      "\n",
      "  Loan_Status  \n",
      "0           Y  \n",
      "1           N  \n",
      "2           Y  \n",
      "3           Y  \n",
      "4           Y  \n"
     ]
    }
   ],
   "source": [
    "df = pd.read_csv(\"loan.csv\")\n",
    "\n",
    "print(df.head())"
   ]
  },
  {
   "cell_type": "code",
   "execution_count": 29,
   "metadata": {},
   "outputs": [
    {
     "name": "stdout",
     "output_type": "stream",
     "text": [
      "Gender              0\n",
      "Married             1\n",
      "Dependents          3\n",
      "LoanAmount          3\n",
      "Loan_Amount_Term    3\n",
      "Credit_History      3\n",
      "Loan_Status         4\n",
      "dtype: int64\n"
     ]
    }
   ],
   "source": [
    "print(df.isnull().sum())"
   ]
  },
  {
   "cell_type": "code",
   "execution_count": 31,
   "metadata": {},
   "outputs": [
    {
     "name": "stdout",
     "output_type": "stream",
     "text": [
      "  Gender Married Dependents  LoanAmount  Loan_Amount_Term  Credit_History  \\\n",
      "0   Male     Yes          0       100.0             360.0             1.0   \n",
      "\n",
      "  Loan_Status  \n",
      "0           Y  \n"
     ]
    }
   ],
   "source": [
    "new_df = df.dropna()\n",
    "\n",
    "print(new_df)"
   ]
  },
  {
   "cell_type": "markdown",
   "metadata": {},
   "source": [
    "## Data preprocessing using **scikit learn**"
   ]
  },
  {
   "cell_type": "code",
   "execution_count": null,
   "metadata": {},
   "outputs": [],
   "source": [
    "import pandas as pd"
   ]
  },
  {
   "cell_type": "code",
   "execution_count": 42,
   "metadata": {},
   "outputs": [
    {
     "name": "stdout",
     "output_type": "stream",
     "text": [
      "    Gender Married Dependents  LoanAmount  Loan_Amount_Term  Credit_History  \\\n",
      "0     Male     Yes          0       100.0             360.0             1.0   \n",
      "1   Female     NaN          1       200.0             360.0             1.0   \n",
      "2     Male     Yes        NaN       300.0             360.0             0.0   \n",
      "3     Male      No        NaN       400.0             360.0             1.0   \n",
      "4   Female     Yes          0         NaN               NaN             1.0   \n",
      "5     Male     Yes         3+       600.0               NaN             0.0   \n",
      "6   Female     Yes          2       700.0               NaN             1.0   \n",
      "7     Male      No          1       800.0             360.0             NaN   \n",
      "8   Female     Yes          2       900.0             360.0             NaN   \n",
      "9     Male     Yes          0      1000.0             360.0             NaN   \n",
      "10    Male      No         3+      1100.0             360.0             1.0   \n",
      "11  Female      No          0      1200.0             360.0             1.0   \n",
      "12    Male     Yes          1      1300.0             360.0             0.0   \n",
      "13  Female      No          2         NaN             360.0             1.0   \n",
      "14    Male     Yes        NaN         NaN             360.0             1.0   \n",
      "\n",
      "   Loan_Status  \n",
      "0            Y  \n",
      "1            N  \n",
      "2            Y  \n",
      "3            Y  \n",
      "4            Y  \n",
      "5            N  \n",
      "6            Y  \n",
      "7            N  \n",
      "8            Y  \n",
      "9            N  \n",
      "10         NaN  \n",
      "11         NaN  \n",
      "12         NaN  \n",
      "13         NaN  \n",
      "14           N  \n"
     ]
    }
   ],
   "source": [
    "df = pd.read_csv(\"loan.csv\")\n",
    "\n",
    "print(df)"
   ]
  },
  {
   "cell_type": "code",
   "execution_count": 44,
   "metadata": {},
   "outputs": [
    {
     "name": "stdout",
     "output_type": "stream",
     "text": [
      "0      100.0\n",
      "1      200.0\n",
      "2      300.0\n",
      "3      400.0\n",
      "4        NaN\n",
      "5      600.0\n",
      "6      700.0\n",
      "7      800.0\n",
      "8      900.0\n",
      "9     1000.0\n",
      "10    1100.0\n",
      "11    1200.0\n",
      "12    1300.0\n",
      "13       NaN\n",
      "14       NaN\n",
      "Name: LoanAmount, dtype: float64\n"
     ]
    }
   ],
   "source": [
    "print(df[\"LoanAmount\"])"
   ]
  },
  {
   "cell_type": "markdown",
   "metadata": {},
   "source": [
    "### Filling the null values using the **Simple Imputer**"
   ]
  },
  {
   "cell_type": "code",
   "execution_count": 55,
   "metadata": {},
   "outputs": [],
   "source": [
    "from sklearn.impute import SimpleImputer"
   ]
  },
  {
   "cell_type": "code",
   "execution_count": 56,
   "metadata": {},
   "outputs": [
    {
     "name": "stdout",
     "output_type": "stream",
     "text": [
      "[[ 100.        ]\n",
      " [ 200.        ]\n",
      " [ 300.        ]\n",
      " [ 400.        ]\n",
      " [ 716.66666667]\n",
      " [ 600.        ]\n",
      " [ 700.        ]\n",
      " [ 800.        ]\n",
      " [ 900.        ]\n",
      " [1000.        ]\n",
      " [1100.        ]\n",
      " [1200.        ]\n",
      " [1300.        ]\n",
      " [ 716.66666667]\n",
      " [ 716.66666667]]\n"
     ]
    }
   ],
   "source": [
    "imputer = SimpleImputer(strategy='mean')\n",
    "\n",
    "imputed_loan_amt_mean = imputer.fit_transform(df[[\"LoanAmount\"]])\n",
    "\n",
    "print(imputed_loan_amt_mean)"
   ]
  },
  {
   "cell_type": "code",
   "execution_count": 57,
   "metadata": {},
   "outputs": [
    {
     "name": "stdout",
     "output_type": "stream",
     "text": [
      "[[ 100.]\n",
      " [ 200.]\n",
      " [ 300.]\n",
      " [ 400.]\n",
      " [ 750.]\n",
      " [ 600.]\n",
      " [ 700.]\n",
      " [ 800.]\n",
      " [ 900.]\n",
      " [1000.]\n",
      " [1100.]\n",
      " [1200.]\n",
      " [1300.]\n",
      " [ 750.]\n",
      " [ 750.]]\n"
     ]
    }
   ],
   "source": [
    "imputer = SimpleImputer(strategy='median')\n",
    "\n",
    "imputed_loan_amt_median = imputer.fit_transform(df[[\"LoanAmount\"]])\n",
    "\n",
    "print(imputed_loan_amt_median)"
   ]
  },
  {
   "cell_type": "code",
   "execution_count": 58,
   "metadata": {},
   "outputs": [
    {
     "name": "stdout",
     "output_type": "stream",
     "text": [
      "[[ 100.]\n",
      " [ 200.]\n",
      " [ 300.]\n",
      " [ 400.]\n",
      " [ 100.]\n",
      " [ 600.]\n",
      " [ 700.]\n",
      " [ 800.]\n",
      " [ 900.]\n",
      " [1000.]\n",
      " [1100.]\n",
      " [1200.]\n",
      " [1300.]\n",
      " [ 100.]\n",
      " [ 100.]]\n"
     ]
    }
   ],
   "source": [
    "imputer = SimpleImputer(strategy='most_frequent')\n",
    "\n",
    "imputed_loan_amt_most_frequent = imputer.fit_transform(df[[\"LoanAmount\"]])\n",
    "\n",
    "print(imputed_loan_amt_most_frequent)"
   ]
  },
  {
   "cell_type": "markdown",
   "metadata": {},
   "source": [
    "### Filling the null values using the **SimpleImputer** for the colums with string values"
   ]
  },
  {
   "cell_type": "code",
   "execution_count": 63,
   "metadata": {},
   "outputs": [
    {
     "name": "stdout",
     "output_type": "stream",
     "text": [
      "   Gender Married Dependents  LoanAmount  Loan_Amount_Term  Credit_History  \\\n",
      "0    Male     Yes          0       100.0             360.0             1.0   \n",
      "1  Female     NaN          1       200.0             360.0             1.0   \n",
      "2    Male     Yes        NaN       300.0             360.0             0.0   \n",
      "3    Male      No        NaN       400.0             360.0             1.0   \n",
      "4  Female     Yes          0         NaN               NaN             1.0   \n",
      "\n",
      "  Loan_Status  \n",
      "0           Y  \n",
      "1           N  \n",
      "2           Y  \n",
      "3           Y  \n",
      "4           Y  \n"
     ]
    }
   ],
   "source": [
    "print(df.head())"
   ]
  },
  {
   "cell_type": "code",
   "execution_count": 69,
   "metadata": {},
   "outputs": [
    {
     "name": "stdout",
     "output_type": "stream",
     "text": [
      "    Gender Married Dependents  LoanAmount  Loan_Amount_Term  Credit_History  \\\n",
      "0     Male     Yes          0       100.0             360.0             1.0   \n",
      "1   Female     Yes          1       200.0             360.0             1.0   \n",
      "2     Male     Yes          0       300.0             360.0             0.0   \n",
      "3     Male      No          0       400.0             360.0             1.0   \n",
      "4   Female     Yes          0       750.0             360.0             1.0   \n",
      "5     Male     Yes         3+       600.0             360.0             0.0   \n",
      "6   Female     Yes          2       700.0             360.0             1.0   \n",
      "7     Male      No          1       800.0             360.0             1.0   \n",
      "8   Female     Yes          2       900.0             360.0             1.0   \n",
      "9     Male     Yes          0      1000.0             360.0             1.0   \n",
      "10    Male      No         3+      1100.0             360.0             1.0   \n",
      "11  Female      No          0      1200.0             360.0             1.0   \n",
      "12    Male     Yes          1      1300.0             360.0             0.0   \n",
      "13  Female      No          2       750.0             360.0             1.0   \n",
      "14    Male     Yes          0       750.0             360.0             1.0   \n",
      "\n",
      "   Loan_Status  \n",
      "0            Y  \n",
      "1            N  \n",
      "2            Y  \n",
      "3            Y  \n",
      "4            Y  \n",
      "5            N  \n",
      "6            Y  \n",
      "7            N  \n",
      "8            Y  \n",
      "9            N  \n",
      "10           Y  \n",
      "11           Y  \n",
      "12           Y  \n",
      "13           Y  \n",
      "14           N  \n"
     ]
    }
   ],
   "source": [
    "string_cols = [\"Gender\", \"Married\", \"Dependents\", \"Loan_Status\"]\n",
    "\n",
    "num_cols = [\"LoanAmount\", \"Loan_Amount_Term\", \"Credit_History\"]\n",
    "\n",
    "imputer = SimpleImputer(strategy='most_frequent')\n",
    "\n",
    "num_imputer = SimpleImputer(strategy='median')\n",
    "\n",
    "for col in string_cols:\n",
    "  df[[col]] = imputer.fit_transform(df[[col]])\n",
    "\n",
    "for col in num_cols:\n",
    "  df[[col]] = num_imputer.fit_transform(df[[col]])\n",
    "\n",
    "print(df)"
   ]
  },
  {
   "cell_type": "code",
   "execution_count": 70,
   "metadata": {},
   "outputs": [],
   "source": [
    "df.to_csv(\"updated_loan_csv\")"
   ]
  },
  {
   "cell_type": "markdown",
   "metadata": {},
   "source": [
    "### Scaling the values using the **Standard Scaler**"
   ]
  },
  {
   "cell_type": "code",
   "execution_count": 59,
   "metadata": {},
   "outputs": [],
   "source": [
    "from sklearn.preprocessing import StandardScaler"
   ]
  },
  {
   "cell_type": "code",
   "execution_count": 61,
   "metadata": {},
   "outputs": [
    {
     "name": "stdout",
     "output_type": "stream",
     "text": [
      "[[-1.79181483e+00]\n",
      " [-1.50125026e+00]\n",
      " [-1.21068569e+00]\n",
      " [-9.20121128e-01]\n",
      " [ 3.30333667e-16]\n",
      " [-3.38991994e-01]\n",
      " [-4.84274278e-02]\n",
      " [ 2.42137139e-01]\n",
      " [ 5.32701705e-01]\n",
      " [ 8.23266272e-01]\n",
      " [ 1.11383084e+00]\n",
      " [ 1.40439541e+00]\n",
      " [ 1.69495997e+00]\n",
      " [ 3.30333667e-16]\n",
      " [ 3.30333667e-16]]\n"
     ]
    }
   ],
   "source": [
    "scaler = StandardScaler()\n",
    "\n",
    "scaled_loan_amt = scaler.fit_transform(imputed_loan_amt_mean)\n",
    "\n",
    "print(scaled_loan_amt)"
   ]
  },
  {
   "cell_type": "markdown",
   "metadata": {},
   "source": [
    "### Scaling the values using the **MinMax Scaler**"
   ]
  },
  {
   "cell_type": "code",
   "execution_count": null,
   "metadata": {},
   "outputs": [],
   "source": [
    "from sklearn.preprocessing import MinMaxScaler"
   ]
  },
  {
   "cell_type": "code",
   "execution_count": 62,
   "metadata": {},
   "outputs": [
    {
     "name": "stdout",
     "output_type": "stream",
     "text": [
      "[[0.        ]\n",
      " [0.08333333]\n",
      " [0.16666667]\n",
      " [0.25      ]\n",
      " [0.51388889]\n",
      " [0.41666667]\n",
      " [0.5       ]\n",
      " [0.58333333]\n",
      " [0.66666667]\n",
      " [0.75      ]\n",
      " [0.83333333]\n",
      " [0.91666667]\n",
      " [1.        ]\n",
      " [0.51388889]\n",
      " [0.51388889]]\n"
     ]
    }
   ],
   "source": [
    "scaler = MinMaxScaler()\n",
    "\n",
    "scaled_loan_amt = scaler.fit_transform(imputed_loan_amt_mean)\n",
    "\n",
    "print(scaled_loan_amt)"
   ]
  },
  {
   "cell_type": "markdown",
   "metadata": {},
   "source": [
    "## Label Encoders in **scikit learn**"
   ]
  },
  {
   "cell_type": "code",
   "execution_count": 71,
   "metadata": {},
   "outputs": [],
   "source": [
    "from sklearn.preprocessing import LabelEncoder"
   ]
  },
  {
   "cell_type": "code",
   "execution_count": 73,
   "metadata": {},
   "outputs": [],
   "source": [
    "df = pd.read_csv(\"loan2.csv\")"
   ]
  },
  {
   "cell_type": "code",
   "execution_count": 74,
   "metadata": {},
   "outputs": [
    {
     "data": {
      "text/html": [
       "<div>\n",
       "<style scoped>\n",
       "    .dataframe tbody tr th:only-of-type {\n",
       "        vertical-align: middle;\n",
       "    }\n",
       "\n",
       "    .dataframe tbody tr th {\n",
       "        vertical-align: top;\n",
       "    }\n",
       "\n",
       "    .dataframe thead th {\n",
       "        text-align: right;\n",
       "    }\n",
       "</style>\n",
       "<table border=\"1\" class=\"dataframe\">\n",
       "  <thead>\n",
       "    <tr style=\"text-align: right;\">\n",
       "      <th></th>\n",
       "      <th>Loan_ID</th>\n",
       "      <th>Location</th>\n",
       "      <th>ApplicantIncome</th>\n",
       "      <th>LoanAmount</th>\n",
       "      <th>Loan_Status</th>\n",
       "    </tr>\n",
       "  </thead>\n",
       "  <tbody>\n",
       "    <tr>\n",
       "      <th>0</th>\n",
       "      <td>LP001</td>\n",
       "      <td>Rural</td>\n",
       "      <td>5000</td>\n",
       "      <td>128</td>\n",
       "      <td>Y</td>\n",
       "    </tr>\n",
       "    <tr>\n",
       "      <th>1</th>\n",
       "      <td>LP002</td>\n",
       "      <td>Urban</td>\n",
       "      <td>6000</td>\n",
       "      <td>150</td>\n",
       "      <td>N</td>\n",
       "    </tr>\n",
       "    <tr>\n",
       "      <th>2</th>\n",
       "      <td>LP003</td>\n",
       "      <td>Rural</td>\n",
       "      <td>7000</td>\n",
       "      <td>180</td>\n",
       "      <td>Y</td>\n",
       "    </tr>\n",
       "    <tr>\n",
       "      <th>3</th>\n",
       "      <td>LP004</td>\n",
       "      <td>Semiurban</td>\n",
       "      <td>2000</td>\n",
       "      <td>50</td>\n",
       "      <td>Y</td>\n",
       "    </tr>\n",
       "    <tr>\n",
       "      <th>4</th>\n",
       "      <td>LP005</td>\n",
       "      <td>Semiurban</td>\n",
       "      <td>3000</td>\n",
       "      <td>70</td>\n",
       "      <td>N</td>\n",
       "    </tr>\n",
       "    <tr>\n",
       "      <th>5</th>\n",
       "      <td>LP006</td>\n",
       "      <td>Urban</td>\n",
       "      <td>4000</td>\n",
       "      <td>100</td>\n",
       "      <td>Y</td>\n",
       "    </tr>\n",
       "    <tr>\n",
       "      <th>6</th>\n",
       "      <td>LP007</td>\n",
       "      <td>Rural</td>\n",
       "      <td>8000</td>\n",
       "      <td>200</td>\n",
       "      <td>N</td>\n",
       "    </tr>\n",
       "    <tr>\n",
       "      <th>7</th>\n",
       "      <td>LP008</td>\n",
       "      <td>Urban</td>\n",
       "      <td>3500</td>\n",
       "      <td>90</td>\n",
       "      <td>Y</td>\n",
       "    </tr>\n",
       "    <tr>\n",
       "      <th>8</th>\n",
       "      <td>LP009</td>\n",
       "      <td>Rural</td>\n",
       "      <td>9000</td>\n",
       "      <td>300</td>\n",
       "      <td>N</td>\n",
       "    </tr>\n",
       "    <tr>\n",
       "      <th>9</th>\n",
       "      <td>LP010</td>\n",
       "      <td>Urban</td>\n",
       "      <td>4500</td>\n",
       "      <td>120</td>\n",
       "      <td>Y</td>\n",
       "    </tr>\n",
       "    <tr>\n",
       "      <th>10</th>\n",
       "      <td>LP011</td>\n",
       "      <td>Rural</td>\n",
       "      <td>3200</td>\n",
       "      <td>80</td>\n",
       "      <td>N</td>\n",
       "    </tr>\n",
       "    <tr>\n",
       "      <th>11</th>\n",
       "      <td>LP012</td>\n",
       "      <td>Urban</td>\n",
       "      <td>2200</td>\n",
       "      <td>60</td>\n",
       "      <td>Y</td>\n",
       "    </tr>\n",
       "    <tr>\n",
       "      <th>12</th>\n",
       "      <td>LP013</td>\n",
       "      <td>Semiurban</td>\n",
       "      <td>7500</td>\n",
       "      <td>250</td>\n",
       "      <td>N</td>\n",
       "    </tr>\n",
       "    <tr>\n",
       "      <th>13</th>\n",
       "      <td>LP014</td>\n",
       "      <td>Urban</td>\n",
       "      <td>6200</td>\n",
       "      <td>170</td>\n",
       "      <td>Y</td>\n",
       "    </tr>\n",
       "    <tr>\n",
       "      <th>14</th>\n",
       "      <td>LP015</td>\n",
       "      <td>Rural</td>\n",
       "      <td>2800</td>\n",
       "      <td>75</td>\n",
       "      <td>N</td>\n",
       "    </tr>\n",
       "    <tr>\n",
       "      <th>15</th>\n",
       "      <td>LP016</td>\n",
       "      <td>Urban</td>\n",
       "      <td>4300</td>\n",
       "      <td>110</td>\n",
       "      <td>Y</td>\n",
       "    </tr>\n",
       "    <tr>\n",
       "      <th>16</th>\n",
       "      <td>LP017</td>\n",
       "      <td>Rural</td>\n",
       "      <td>5200</td>\n",
       "      <td>140</td>\n",
       "      <td>Y</td>\n",
       "    </tr>\n",
       "    <tr>\n",
       "      <th>17</th>\n",
       "      <td>LP018</td>\n",
       "      <td>Semiurban</td>\n",
       "      <td>5100</td>\n",
       "      <td>135</td>\n",
       "      <td>Y</td>\n",
       "    </tr>\n",
       "    <tr>\n",
       "      <th>18</th>\n",
       "      <td>LP019</td>\n",
       "      <td>Semiurban</td>\n",
       "      <td>3800</td>\n",
       "      <td>95</td>\n",
       "      <td>N</td>\n",
       "    </tr>\n",
       "    <tr>\n",
       "      <th>19</th>\n",
       "      <td>LP020</td>\n",
       "      <td>Rural</td>\n",
       "      <td>4900</td>\n",
       "      <td>130</td>\n",
       "      <td>Y</td>\n",
       "    </tr>\n",
       "  </tbody>\n",
       "</table>\n",
       "</div>"
      ],
      "text/plain": [
       "   Loan_ID   Location  ApplicantIncome  LoanAmount Loan_Status\n",
       "0    LP001      Rural             5000         128           Y\n",
       "1    LP002      Urban             6000         150           N\n",
       "2    LP003      Rural             7000         180           Y\n",
       "3    LP004  Semiurban             2000          50           Y\n",
       "4    LP005  Semiurban             3000          70           N\n",
       "5    LP006      Urban             4000         100           Y\n",
       "6    LP007      Rural             8000         200           N\n",
       "7    LP008      Urban             3500          90           Y\n",
       "8    LP009      Rural             9000         300           N\n",
       "9    LP010      Urban             4500         120           Y\n",
       "10   LP011      Rural             3200          80           N\n",
       "11   LP012      Urban             2200          60           Y\n",
       "12   LP013  Semiurban             7500         250           N\n",
       "13   LP014      Urban             6200         170           Y\n",
       "14   LP015      Rural             2800          75           N\n",
       "15   LP016      Urban             4300         110           Y\n",
       "16   LP017      Rural             5200         140           Y\n",
       "17   LP018  Semiurban             5100         135           Y\n",
       "18   LP019  Semiurban             3800          95           N\n",
       "19   LP020      Rural             4900         130           Y"
      ]
     },
     "execution_count": 74,
     "metadata": {},
     "output_type": "execute_result"
    }
   ],
   "source": [
    "df"
   ]
  },
  {
   "cell_type": "code",
   "execution_count": 79,
   "metadata": {},
   "outputs": [
    {
     "name": "stdout",
     "output_type": "stream",
     "text": [
      "   Loan_ID  Location  ApplicantIncome  LoanAmount Loan_Status\n",
      "0    LP001         0             5000         128           Y\n",
      "1    LP002         2             6000         150           N\n",
      "2    LP003         0             7000         180           Y\n",
      "3    LP004         1             2000          50           Y\n",
      "4    LP005         1             3000          70           N\n",
      "5    LP006         2             4000         100           Y\n",
      "6    LP007         0             8000         200           N\n",
      "7    LP008         2             3500          90           Y\n",
      "8    LP009         0             9000         300           N\n",
      "9    LP010         2             4500         120           Y\n",
      "10   LP011         0             3200          80           N\n",
      "11   LP012         2             2200          60           Y\n",
      "12   LP013         1             7500         250           N\n",
      "13   LP014         2             6200         170           Y\n",
      "14   LP015         0             2800          75           N\n",
      "15   LP016         2             4300         110           Y\n",
      "16   LP017         0             5200         140           Y\n",
      "17   LP018         1             5100         135           Y\n",
      "18   LP019         1             3800          95           N\n",
      "19   LP020         0             4900         130           Y\n"
     ]
    }
   ],
   "source": [
    "encoder = LabelEncoder()\n",
    "df['Location'] = encoder.fit_transform(df['Location'])\n",
    "print(df)"
   ]
  },
  {
   "cell_type": "markdown",
   "metadata": {},
   "source": [
    "### One Hot Encoding"
   ]
  },
  {
   "cell_type": "code",
   "execution_count": 85,
   "metadata": {},
   "outputs": [],
   "source": [
    "from sklearn.preprocessing import OneHotEncoder"
   ]
  },
  {
   "cell_type": "code",
   "execution_count": 80,
   "metadata": {},
   "outputs": [
    {
     "data": {
      "text/html": [
       "<div>\n",
       "<style scoped>\n",
       "    .dataframe tbody tr th:only-of-type {\n",
       "        vertical-align: middle;\n",
       "    }\n",
       "\n",
       "    .dataframe tbody tr th {\n",
       "        vertical-align: top;\n",
       "    }\n",
       "\n",
       "    .dataframe thead th {\n",
       "        text-align: right;\n",
       "    }\n",
       "</style>\n",
       "<table border=\"1\" class=\"dataframe\">\n",
       "  <thead>\n",
       "    <tr style=\"text-align: right;\">\n",
       "      <th></th>\n",
       "      <th>Loan_ID</th>\n",
       "      <th>Gender</th>\n",
       "      <th>Married</th>\n",
       "      <th>Education</th>\n",
       "      <th>ApplicantIncome</th>\n",
       "      <th>LoanAmount</th>\n",
       "      <th>Loan_Status</th>\n",
       "    </tr>\n",
       "  </thead>\n",
       "  <tbody>\n",
       "    <tr>\n",
       "      <th>0</th>\n",
       "      <td>LP001</td>\n",
       "      <td>Male</td>\n",
       "      <td>Yes</td>\n",
       "      <td>Graduate</td>\n",
       "      <td>5000</td>\n",
       "      <td>128</td>\n",
       "      <td>Y</td>\n",
       "    </tr>\n",
       "    <tr>\n",
       "      <th>1</th>\n",
       "      <td>LP002</td>\n",
       "      <td>Female</td>\n",
       "      <td>Yes</td>\n",
       "      <td>Graduate</td>\n",
       "      <td>6000</td>\n",
       "      <td>150</td>\n",
       "      <td>N</td>\n",
       "    </tr>\n",
       "    <tr>\n",
       "      <th>2</th>\n",
       "      <td>LP003</td>\n",
       "      <td>Male</td>\n",
       "      <td>Yes</td>\n",
       "      <td>Graduate</td>\n",
       "      <td>7000</td>\n",
       "      <td>180</td>\n",
       "      <td>Y</td>\n",
       "    </tr>\n",
       "    <tr>\n",
       "      <th>3</th>\n",
       "      <td>LP004</td>\n",
       "      <td>Male</td>\n",
       "      <td>No</td>\n",
       "      <td>Not Graduate</td>\n",
       "      <td>2000</td>\n",
       "      <td>50</td>\n",
       "      <td>Y</td>\n",
       "    </tr>\n",
       "    <tr>\n",
       "      <th>4</th>\n",
       "      <td>LP005</td>\n",
       "      <td>Female</td>\n",
       "      <td>Yes</td>\n",
       "      <td>Not Graduate</td>\n",
       "      <td>3000</td>\n",
       "      <td>70</td>\n",
       "      <td>N</td>\n",
       "    </tr>\n",
       "  </tbody>\n",
       "</table>\n",
       "</div>"
      ],
      "text/plain": [
       "  Loan_ID  Gender Married     Education  ApplicantIncome  LoanAmount  \\\n",
       "0   LP001    Male     Yes      Graduate             5000         128   \n",
       "1   LP002  Female     Yes      Graduate             6000         150   \n",
       "2   LP003    Male     Yes      Graduate             7000         180   \n",
       "3   LP004    Male      No  Not Graduate             2000          50   \n",
       "4   LP005  Female     Yes  Not Graduate             3000          70   \n",
       "\n",
       "  Loan_Status  \n",
       "0           Y  \n",
       "1           N  \n",
       "2           Y  \n",
       "3           Y  \n",
       "4           N  "
      ]
     },
     "execution_count": 80,
     "metadata": {},
     "output_type": "execute_result"
    }
   ],
   "source": [
    "df = pd.read_csv(\"loan3.csv\")\n",
    "\n",
    "df"
   ]
  },
  {
   "cell_type": "code",
   "execution_count": 81,
   "metadata": {},
   "outputs": [
    {
     "name": "stdout",
     "output_type": "stream",
     "text": [
      "Column Exists\n"
     ]
    }
   ],
   "source": [
    "if \"Gender\" in df:\n",
    "  print(\"Column Exists\")\n",
    "else:\n",
    "  print(\"Column does not exists\")"
   ]
  },
  {
   "cell_type": "code",
   "execution_count": 82,
   "metadata": {},
   "outputs": [],
   "source": [
    "enocder = LabelEncoder()\n",
    "\n",
    "df[\"Gender_Label_Encoded\"] = enocder.fit_transform(df[\"Gender\"])"
   ]
  },
  {
   "cell_type": "code",
   "execution_count": 83,
   "metadata": {},
   "outputs": [
    {
     "data": {
      "text/html": [
       "<div>\n",
       "<style scoped>\n",
       "    .dataframe tbody tr th:only-of-type {\n",
       "        vertical-align: middle;\n",
       "    }\n",
       "\n",
       "    .dataframe tbody tr th {\n",
       "        vertical-align: top;\n",
       "    }\n",
       "\n",
       "    .dataframe thead th {\n",
       "        text-align: right;\n",
       "    }\n",
       "</style>\n",
       "<table border=\"1\" class=\"dataframe\">\n",
       "  <thead>\n",
       "    <tr style=\"text-align: right;\">\n",
       "      <th></th>\n",
       "      <th>Loan_ID</th>\n",
       "      <th>Gender</th>\n",
       "      <th>Married</th>\n",
       "      <th>Education</th>\n",
       "      <th>ApplicantIncome</th>\n",
       "      <th>LoanAmount</th>\n",
       "      <th>Loan_Status</th>\n",
       "      <th>Gender_Label_Encoded</th>\n",
       "    </tr>\n",
       "  </thead>\n",
       "  <tbody>\n",
       "    <tr>\n",
       "      <th>0</th>\n",
       "      <td>LP001</td>\n",
       "      <td>Male</td>\n",
       "      <td>Yes</td>\n",
       "      <td>Graduate</td>\n",
       "      <td>5000</td>\n",
       "      <td>128</td>\n",
       "      <td>Y</td>\n",
       "      <td>1</td>\n",
       "    </tr>\n",
       "    <tr>\n",
       "      <th>1</th>\n",
       "      <td>LP002</td>\n",
       "      <td>Female</td>\n",
       "      <td>Yes</td>\n",
       "      <td>Graduate</td>\n",
       "      <td>6000</td>\n",
       "      <td>150</td>\n",
       "      <td>N</td>\n",
       "      <td>0</td>\n",
       "    </tr>\n",
       "    <tr>\n",
       "      <th>2</th>\n",
       "      <td>LP003</td>\n",
       "      <td>Male</td>\n",
       "      <td>Yes</td>\n",
       "      <td>Graduate</td>\n",
       "      <td>7000</td>\n",
       "      <td>180</td>\n",
       "      <td>Y</td>\n",
       "      <td>1</td>\n",
       "    </tr>\n",
       "    <tr>\n",
       "      <th>3</th>\n",
       "      <td>LP004</td>\n",
       "      <td>Male</td>\n",
       "      <td>No</td>\n",
       "      <td>Not Graduate</td>\n",
       "      <td>2000</td>\n",
       "      <td>50</td>\n",
       "      <td>Y</td>\n",
       "      <td>1</td>\n",
       "    </tr>\n",
       "    <tr>\n",
       "      <th>4</th>\n",
       "      <td>LP005</td>\n",
       "      <td>Female</td>\n",
       "      <td>Yes</td>\n",
       "      <td>Not Graduate</td>\n",
       "      <td>3000</td>\n",
       "      <td>70</td>\n",
       "      <td>N</td>\n",
       "      <td>0</td>\n",
       "    </tr>\n",
       "  </tbody>\n",
       "</table>\n",
       "</div>"
      ],
      "text/plain": [
       "  Loan_ID  Gender Married     Education  ApplicantIncome  LoanAmount  \\\n",
       "0   LP001    Male     Yes      Graduate             5000         128   \n",
       "1   LP002  Female     Yes      Graduate             6000         150   \n",
       "2   LP003    Male     Yes      Graduate             7000         180   \n",
       "3   LP004    Male      No  Not Graduate             2000          50   \n",
       "4   LP005  Female     Yes  Not Graduate             3000          70   \n",
       "\n",
       "  Loan_Status  Gender_Label_Encoded  \n",
       "0           Y                     1  \n",
       "1           N                     0  \n",
       "2           Y                     1  \n",
       "3           Y                     1  \n",
       "4           N                     0  "
      ]
     },
     "execution_count": 83,
     "metadata": {},
     "output_type": "execute_result"
    }
   ],
   "source": [
    "df"
   ]
  },
  {
   "cell_type": "code",
   "execution_count": 91,
   "metadata": {},
   "outputs": [
    {
     "data": {
      "text/html": [
       "<div>\n",
       "<style scoped>\n",
       "    .dataframe tbody tr th:only-of-type {\n",
       "        vertical-align: middle;\n",
       "    }\n",
       "\n",
       "    .dataframe tbody tr th {\n",
       "        vertical-align: top;\n",
       "    }\n",
       "\n",
       "    .dataframe thead th {\n",
       "        text-align: right;\n",
       "    }\n",
       "</style>\n",
       "<table border=\"1\" class=\"dataframe\">\n",
       "  <thead>\n",
       "    <tr style=\"text-align: right;\">\n",
       "      <th></th>\n",
       "      <th>Loan_ID</th>\n",
       "      <th>Gender</th>\n",
       "      <th>Married</th>\n",
       "      <th>Education</th>\n",
       "      <th>ApplicantIncome</th>\n",
       "      <th>LoanAmount</th>\n",
       "      <th>Loan_Status</th>\n",
       "      <th>Gender_Label_Encoded</th>\n",
       "      <th>Gender_Male</th>\n",
       "    </tr>\n",
       "  </thead>\n",
       "  <tbody>\n",
       "    <tr>\n",
       "      <th>0</th>\n",
       "      <td>LP001</td>\n",
       "      <td>Male</td>\n",
       "      <td>Yes</td>\n",
       "      <td>Graduate</td>\n",
       "      <td>5000</td>\n",
       "      <td>128</td>\n",
       "      <td>Y</td>\n",
       "      <td>1</td>\n",
       "      <td>&lt;Compressed Sparse Row sparse matrix of dtype ...</td>\n",
       "    </tr>\n",
       "    <tr>\n",
       "      <th>1</th>\n",
       "      <td>LP002</td>\n",
       "      <td>Female</td>\n",
       "      <td>Yes</td>\n",
       "      <td>Graduate</td>\n",
       "      <td>6000</td>\n",
       "      <td>150</td>\n",
       "      <td>N</td>\n",
       "      <td>0</td>\n",
       "      <td>&lt;Compressed Sparse Row sparse matrix of dtype ...</td>\n",
       "    </tr>\n",
       "    <tr>\n",
       "      <th>2</th>\n",
       "      <td>LP003</td>\n",
       "      <td>Male</td>\n",
       "      <td>Yes</td>\n",
       "      <td>Graduate</td>\n",
       "      <td>7000</td>\n",
       "      <td>180</td>\n",
       "      <td>Y</td>\n",
       "      <td>1</td>\n",
       "      <td>&lt;Compressed Sparse Row sparse matrix of dtype ...</td>\n",
       "    </tr>\n",
       "    <tr>\n",
       "      <th>3</th>\n",
       "      <td>LP004</td>\n",
       "      <td>Male</td>\n",
       "      <td>No</td>\n",
       "      <td>Not Graduate</td>\n",
       "      <td>2000</td>\n",
       "      <td>50</td>\n",
       "      <td>Y</td>\n",
       "      <td>1</td>\n",
       "      <td>&lt;Compressed Sparse Row sparse matrix of dtype ...</td>\n",
       "    </tr>\n",
       "    <tr>\n",
       "      <th>4</th>\n",
       "      <td>LP005</td>\n",
       "      <td>Female</td>\n",
       "      <td>Yes</td>\n",
       "      <td>Not Graduate</td>\n",
       "      <td>3000</td>\n",
       "      <td>70</td>\n",
       "      <td>N</td>\n",
       "      <td>0</td>\n",
       "      <td>&lt;Compressed Sparse Row sparse matrix of dtype ...</td>\n",
       "    </tr>\n",
       "  </tbody>\n",
       "</table>\n",
       "</div>"
      ],
      "text/plain": [
       "  Loan_ID  Gender Married     Education  ApplicantIncome  LoanAmount  \\\n",
       "0   LP001    Male     Yes      Graduate             5000         128   \n",
       "1   LP002  Female     Yes      Graduate             6000         150   \n",
       "2   LP003    Male     Yes      Graduate             7000         180   \n",
       "3   LP004    Male      No  Not Graduate             2000          50   \n",
       "4   LP005  Female     Yes  Not Graduate             3000          70   \n",
       "\n",
       "  Loan_Status  Gender_Label_Encoded  \\\n",
       "0           Y                     1   \n",
       "1           N                     0   \n",
       "2           Y                     1   \n",
       "3           Y                     1   \n",
       "4           N                     0   \n",
       "\n",
       "                                         Gender_Male  \n",
       "0  <Compressed Sparse Row sparse matrix of dtype ...  \n",
       "1  <Compressed Sparse Row sparse matrix of dtype ...  \n",
       "2  <Compressed Sparse Row sparse matrix of dtype ...  \n",
       "3  <Compressed Sparse Row sparse matrix of dtype ...  \n",
       "4  <Compressed Sparse Row sparse matrix of dtype ...  "
      ]
     },
     "execution_count": 91,
     "metadata": {},
     "output_type": "execute_result"
    }
   ],
   "source": [
    "encoder = OneHotEncoder()\n",
    "\n",
    "df[[\"Gender_Male\"]] = encoder.fit_transform(df[[\"Gender\"]])\n",
    "\n",
    "df"
   ]
  }
 ],
 "metadata": {
  "kernelspec": {
   "display_name": "mllab",
   "language": "python",
   "name": "python3"
  },
  "language_info": {
   "codemirror_mode": {
    "name": "ipython",
    "version": 3
   },
   "file_extension": ".py",
   "mimetype": "text/x-python",
   "name": "python",
   "nbconvert_exporter": "python",
   "pygments_lexer": "ipython3",
   "version": "3.12.8"
  }
 },
 "nbformat": 4,
 "nbformat_minor": 2
}
