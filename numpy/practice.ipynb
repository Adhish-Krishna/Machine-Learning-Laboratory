{
 "cells": [
  {
   "cell_type": "markdown",
   "metadata": {},
   "source": [
    "Importing **numpy**"
   ]
  },
  {
   "cell_type": "code",
   "execution_count": 78,
   "metadata": {},
   "outputs": [],
   "source": [
    "import numpy as np"
   ]
  },
  {
   "cell_type": "markdown",
   "metadata": {},
   "source": [
    "**Exercise 1:**\n",
    "\n",
    "Create a 1D array with values ranging from 0 to 9."
   ]
  },
  {
   "cell_type": "code",
   "execution_count": 79,
   "metadata": {},
   "outputs": [
    {
     "data": {
      "text/plain": [
       "array([0, 1, 2, 3, 4, 5, 6, 7, 8, 9])"
      ]
     },
     "execution_count": 79,
     "metadata": {},
     "output_type": "execute_result"
    }
   ],
   "source": [
    "import numpy as np\n",
    "arr = np.arange(10)\n",
    "arr"
   ]
  },
  {
   "cell_type": "markdown",
   "metadata": {},
   "source": [
    "**Exercise 2:**\n",
    "\n",
    "Convert a 1D array to a 2D array with 2 rows."
   ]
  },
  {
   "cell_type": "code",
   "execution_count": 80,
   "metadata": {},
   "outputs": [
    {
     "data": {
      "text/plain": [
       "array([[1, 2, 3],\n",
       "       [4, 5, 6]])"
      ]
     },
     "execution_count": 80,
     "metadata": {},
     "output_type": "execute_result"
    }
   ],
   "source": [
    "arr = np.array([1,2,3,4,5,6]).reshape(2,-1)\n",
    "arr"
   ]
  },
  {
   "cell_type": "markdown",
   "metadata": {},
   "source": [
    "**Exercise 3:**\n",
    "\n",
    "Multiply a 5x3 matrix by a 3x2 matrix."
   ]
  },
  {
   "cell_type": "code",
   "execution_count": 81,
   "metadata": {},
   "outputs": [
    {
     "name": "stdout",
     "output_type": "stream",
     "text": [
      "Arr1:  [[ 0  1  2]\n",
      " [ 3  4  5]\n",
      " [ 6  7  8]\n",
      " [ 9 10 11]\n",
      " [12 13 14]]\n",
      "Arr2:  [[0 1]\n",
      " [2 3]\n",
      " [4 5]]\n",
      "Prod:  [[ 10  13]\n",
      " [ 28  40]\n",
      " [ 46  67]\n",
      " [ 64  94]\n",
      " [ 82 121]]\n"
     ]
    }
   ],
   "source": [
    "arr1 = np.arange(15).reshape((5,3))\n",
    "arr2 = np.arange(6).reshape((3,2))\n",
    "\n",
    "prod = np.dot(arr1, arr2)\n",
    "\n",
    "print(\"Arr1: \",arr1)\n",
    "print(\"Arr2: \",arr2)\n",
    "print(\"Prod: \",prod)"
   ]
  },
  {
   "cell_type": "markdown",
   "metadata": {},
   "source": [
    "**Exercise 4:**\n",
    "\n",
    "Extract all odd numbers from an array of 1-10."
   ]
  },
  {
   "cell_type": "code",
   "execution_count": 82,
   "metadata": {},
   "outputs": [
    {
     "data": {
      "text/plain": [
       "array([1, 3, 5, 7, 9])"
      ]
     },
     "execution_count": 82,
     "metadata": {},
     "output_type": "execute_result"
    }
   ],
   "source": [
    "arr = np.arange(10)\n",
    "\n",
    "odd_arr = arr[arr%2==1]\n",
    "\n",
    "odd_arr"
   ]
  },
  {
   "cell_type": "markdown",
   "metadata": {},
   "source": [
    "**Exercise 5:**\n",
    "\n",
    "Replace all odd numbers in an array of 1-10 with -1."
   ]
  },
  {
   "cell_type": "code",
   "execution_count": 83,
   "metadata": {},
   "outputs": [
    {
     "data": {
      "text/plain": [
       "array([-1,  2, -1,  4, -1,  6, -1,  8, -1])"
      ]
     },
     "execution_count": 83,
     "metadata": {},
     "output_type": "execute_result"
    }
   ],
   "source": [
    "arr = np.arange(1,10)\n",
    "arr[arr%2 == 1] = -1\n",
    "arr"
   ]
  },
  {
   "cell_type": "markdown",
   "metadata": {},
   "source": [
    "**Exercise 6:**\n",
    "\n",
    "Convert a 1D array to a boolean array where all positive values become True."
   ]
  },
  {
   "cell_type": "code",
   "execution_count": 84,
   "metadata": {},
   "outputs": [
    {
     "data": {
      "text/plain": [
       "array([ True, False,  True, False,  True, False])"
      ]
     },
     "execution_count": 84,
     "metadata": {},
     "output_type": "execute_result"
    }
   ],
   "source": [
    "arr = np.array([1,-2,3,-4,5,-6])\n",
    "\n",
    "bool_arr = arr > 0 \n",
    "\n",
    "bool_arr"
   ]
  },
  {
   "cell_type": "markdown",
   "metadata": {},
   "source": [
    "**Exercise 7:**\n",
    "\n",
    "Replace all even numbers in a 1D array with their negative"
   ]
  },
  {
   "cell_type": "code",
   "execution_count": 85,
   "metadata": {},
   "outputs": [
    {
     "data": {
      "text/plain": [
       "array([  1,  -2,   3,  -4,   5,  -6,   7,  -8,   9, -10,  11, -12,  13,\n",
       "       -14,  15, -16,  17, -18,  19])"
      ]
     },
     "execution_count": 85,
     "metadata": {},
     "output_type": "execute_result"
    }
   ],
   "source": [
    "arr = np.arange(1,20)\n",
    "\n",
    "arr[arr%2==0] *= -1\n",
    "\n",
    "arr"
   ]
  },
  {
   "cell_type": "markdown",
   "metadata": {},
   "source": [
    "**Exercise 8:**\n",
    "\n",
    "Create a random 3x3 matrix and normalize it."
   ]
  },
  {
   "cell_type": "code",
   "execution_count": 86,
   "metadata": {},
   "outputs": [
    {
     "name": "stdout",
     "output_type": "stream",
     "text": [
      "[[0.40664817 0.59056952 0.37785327]\n",
      " [0.30422729 0.28030095 0.01010885]\n",
      " [0.26534306 0.67981854 0.0118612 ]]\n",
      "[[ 0.38206516  1.24474033  0.24700391]\n",
      " [-0.09833555 -0.21056103 -1.47788541]\n",
      " [-0.28072034  1.66335904 -1.46966611]]\n"
     ]
    }
   ],
   "source": [
    "matrix = np.random.random((3,3))\n",
    "\n",
    "print(matrix)\n",
    "\n",
    "normalized_matrix = (matrix - np.mean(matrix))/np.std(matrix)\n",
    "\n",
    "print(normalized_matrix)"
   ]
  },
  {
   "cell_type": "markdown",
   "metadata": {},
   "source": [
    "**Exercise 9:**\n",
    "\n",
    "Calculate the sum of the diagonal elements of a 3x3 matrix."
   ]
  },
  {
   "cell_type": "code",
   "execution_count": 87,
   "metadata": {},
   "outputs": [
    {
     "name": "stdout",
     "output_type": "stream",
     "text": [
      "[[1 2 3]\n",
      " [4 5 6]\n",
      " [7 8 9]]\n",
      "15\n"
     ]
    }
   ],
   "source": [
    "arr = np.arange(1,10).reshape(3,3)\n",
    "\n",
    "print(arr)\n",
    "\n",
    "diagonal_sum = np.trace(arr)\n",
    "\n",
    "print(diagonal_sum)"
   ]
  },
  {
   "cell_type": "markdown",
   "metadata": {},
   "source": [
    "**Exercise 10:**\n",
    "\n",
    "Find the indices of non-zero elements from [1,2,0,0,4,0]."
   ]
  },
  {
   "cell_type": "code",
   "execution_count": 88,
   "metadata": {},
   "outputs": [
    {
     "data": {
      "text/plain": [
       "(array([0, 1, 4]),)"
      ]
     },
     "execution_count": 88,
     "metadata": {},
     "output_type": "execute_result"
    }
   ],
   "source": [
    "arr = np.array([1,2,0,0,4,0])\n",
    "\n",
    "non_zero_indices = np.nonzero(arr)\n",
    "\n",
    "non_zero_indices"
   ]
  },
  {
   "cell_type": "markdown",
   "metadata": {},
   "source": [
    "**Exercise 11:**\n",
    "\n",
    "Reverse a 1D array (first element becomes the last)."
   ]
  },
  {
   "cell_type": "code",
   "execution_count": 89,
   "metadata": {},
   "outputs": [
    {
     "data": {
      "text/plain": [
       "array([9, 8, 7, 6, 5, 4, 3, 2, 1])"
      ]
     },
     "execution_count": 89,
     "metadata": {},
     "output_type": "execute_result"
    }
   ],
   "source": [
    "arr = np.arange(1,10)\n",
    "\n",
    "arr = np.flip(arr)\n",
    "\n",
    "arr"
   ]
  },
  {
   "cell_type": "markdown",
   "metadata": {},
   "source": [
    "**Exercise 12:**\n",
    "\n",
    "Create a 3x3 identity matrix"
   ]
  },
  {
   "cell_type": "code",
   "execution_count": 90,
   "metadata": {},
   "outputs": [
    {
     "data": {
      "text/plain": [
       "array([[1., 0., 0.],\n",
       "       [0., 1., 0.],\n",
       "       [0., 0., 1.]])"
      ]
     },
     "execution_count": 90,
     "metadata": {},
     "output_type": "execute_result"
    }
   ],
   "source": [
    "identity = np.eye(3)\n",
    "\n",
    "identity"
   ]
  },
  {
   "cell_type": "markdown",
   "metadata": {},
   "source": [
    "**Exercise 13:**\n",
    "\n",
    "Reshape a 1D array to a 2D array with 5 rows and 2 columns."
   ]
  },
  {
   "cell_type": "code",
   "execution_count": 91,
   "metadata": {},
   "outputs": [
    {
     "data": {
      "text/plain": [
       "array([[0, 1],\n",
       "       [2, 3],\n",
       "       [4, 5],\n",
       "       [6, 7],\n",
       "       [8, 9]])"
      ]
     },
     "execution_count": 91,
     "metadata": {},
     "output_type": "execute_result"
    }
   ],
   "source": [
    "arr = np.arange(10).reshape(5,2)\n",
    "\n",
    "arr"
   ]
  },
  {
   "cell_type": "markdown",
   "metadata": {},
   "source": [
    "**Exercise 14:**\n",
    "\n",
    "Stack two arrays vertically."
   ]
  },
  {
   "cell_type": "code",
   "execution_count": 92,
   "metadata": {},
   "outputs": [
    {
     "data": {
      "text/plain": [
       "array([[1, 2, 3, 4, 5, 6],\n",
       "       [3, 4, 5, 7, 4, 6]])"
      ]
     },
     "execution_count": 92,
     "metadata": {},
     "output_type": "execute_result"
    }
   ],
   "source": [
    "arr1 = np.array([1,2,3,4,5,6])\n",
    "\n",
    "arr2 = np.array([3,4,5,7,4,6])\n",
    "\n",
    "stacked_array = np.vstack((arr1,arr2))\n",
    "\n",
    "stacked_array"
   ]
  },
  {
   "cell_type": "markdown",
   "metadata": {},
   "source": [
    "**Exercise 15:**\n",
    "\n",
    "Get the common items between two arrays."
   ]
  },
  {
   "cell_type": "code",
   "execution_count": 93,
   "metadata": {},
   "outputs": [
    {
     "name": "stdout",
     "output_type": "stream",
     "text": [
      "[3 4 5]\n"
     ]
    }
   ],
   "source": [
    "arr1 = np.array([1, 2, 3, 4, 5])\n",
    "\n",
    "arr2 = np.array([3, 4, 5, 6, 7])\n",
    "\n",
    "common_items = np.intersect1d(arr1, arr2)\n",
    "\n",
    "print(common_items)"
   ]
  },
  {
   "cell_type": "markdown",
   "metadata": {},
   "source": [
    "**Exercise 16:**\n",
    "\n",
    "Create a 5x5 matrix with row values ranging from 0 to 4."
   ]
  },
  {
   "cell_type": "code",
   "execution_count": 94,
   "metadata": {},
   "outputs": [
    {
     "data": {
      "text/plain": [
       "array([[0., 1., 2., 3., 4.],\n",
       "       [0., 1., 2., 3., 4.],\n",
       "       [0., 1., 2., 3., 4.],\n",
       "       [0., 1., 2., 3., 4.],\n",
       "       [0., 1., 2., 3., 4.]])"
      ]
     },
     "execution_count": 94,
     "metadata": {},
     "output_type": "execute_result"
    }
   ],
   "source": [
    "matrix = np.zeros((5,5))\n",
    "\n",
    "matrix += np.array([0,1,2,3,4])\n",
    "\n",
    "matrix"
   ]
  },
  {
   "cell_type": "markdown",
   "metadata": {},
   "source": [
    "**Exercise 17:**\n",
    "\n",
    "Find the index of the maximum value in a 1D array."
   ]
  },
  {
   "cell_type": "code",
   "execution_count": 95,
   "metadata": {},
   "outputs": [
    {
     "data": {
      "text/plain": [
       "np.int64(6)"
      ]
     },
     "execution_count": 95,
     "metadata": {},
     "output_type": "execute_result"
    }
   ],
   "source": [
    "arr = np.array([1,2,3,4,5,6,67,8,9])\n",
    "\n",
    "max_index = np.argmax(arr)\n",
    "\n",
    "max_index"
   ]
  },
  {
   "cell_type": "markdown",
   "metadata": {},
   "source": [
    "**Exercise 18:**\n",
    "\n",
    "Normalize the values in a 1D array between 0 and 1."
   ]
  },
  {
   "cell_type": "code",
   "execution_count": 96,
   "metadata": {},
   "outputs": [
    {
     "name": "stdout",
     "output_type": "stream",
     "text": [
      "[0.         0.05555556 0.11111111 0.12962963 0.18518519 1.        ]\n"
     ]
    }
   ],
   "source": [
    "arr = np.array([2, 5, 8, 9, 12, 56])\n",
    "\n",
    "normalized_arr = (arr - np.min(arr)) / (np.max(arr) - np.min(arr))\n",
    "\n",
    "print(normalized_arr)"
   ]
  },
  {
   "cell_type": "markdown",
   "metadata": {},
   "source": [
    "**Exercise 19:**\n",
    "\n",
    "Calculate the dot product of two arrays"
   ]
  },
  {
   "cell_type": "code",
   "execution_count": 97,
   "metadata": {},
   "outputs": [
    {
     "name": "stdout",
     "output_type": "stream",
     "text": [
      "32\n"
     ]
    }
   ],
   "source": [
    "arr1 = np.array([1, 2, 3])\n",
    "\n",
    "arr2 = np.array([4, 5, 6])\n",
    "\n",
    "dot_product = np.dot(arr1, arr2)\n",
    "\n",
    "print(dot_product)"
   ]
  },
  {
   "cell_type": "markdown",
   "metadata": {},
   "source": [
    "**Exercise 20:**\n",
    "\n",
    "Count the number of elements in an array within a specific range."
   ]
  },
  {
   "cell_type": "code",
   "execution_count": 98,
   "metadata": {},
   "outputs": [
    {
     "data": {
      "text/plain": [
       "np.int64(11)"
      ]
     },
     "execution_count": 98,
     "metadata": {},
     "output_type": "execute_result"
    }
   ],
   "source": [
    "arr = np.array([1,2,3,4,5,6,45,7,7,5,4,4,5,3,4,4,4,7,7,6,8,9,0])\n",
    "\n",
    "count_within_range = np.sum((arr>=5) & (arr<=9))\n",
    "\n",
    "count_within_range"
   ]
  },
  {
   "cell_type": "markdown",
   "metadata": {},
   "source": [
    "**Exercise 21:**\n",
    "\n",
    "Find the mean of each row in a 2D array."
   ]
  },
  {
   "cell_type": "code",
   "execution_count": 99,
   "metadata": {},
   "outputs": [
    {
     "data": {
      "text/plain": [
       "array([ 2.,  7., 12.])"
      ]
     },
     "execution_count": 99,
     "metadata": {},
     "output_type": "execute_result"
    }
   ],
   "source": [
    "arr = np.arange(15).reshape(3,5)\n",
    "\n",
    "mean = np.mean(arr, axis=1)\n",
    "\n",
    "mean"
   ]
  },
  {
   "cell_type": "markdown",
   "metadata": {},
   "source": [
    "**Exercise 22:**\n",
    "\n",
    "Create a random 4x4 matrix and extract the diagonal elements."
   ]
  },
  {
   "cell_type": "code",
   "execution_count": 100,
   "metadata": {},
   "outputs": [
    {
     "name": "stdout",
     "output_type": "stream",
     "text": [
      "[[ 0  1  2  3]\n",
      " [ 4  5  6  7]\n",
      " [ 8  9 10 11]\n",
      " [12 13 14 15]]\n",
      "[ 0  5 10 15]\n"
     ]
    }
   ],
   "source": [
    "arr = np.arange(16).reshape(4,4)\n",
    "\n",
    "print(arr)\n",
    "\n",
    "diagonal_elements = np.diag(arr)\n",
    "\n",
    "print(diagonal_elements)\n"
   ]
  },
  {
   "cell_type": "markdown",
   "metadata": {},
   "source": [
    "**Exercise 23:**\n",
    "\n",
    "Count the number of occurrences of a specific value in an array."
   ]
  },
  {
   "cell_type": "code",
   "execution_count": 101,
   "metadata": {},
   "outputs": [
    {
     "name": "stdout",
     "output_type": "stream",
     "text": [
      "4\n"
     ]
    }
   ],
   "source": [
    "def countSpecificNum(arr, num):\n",
    "    return np.sum((arr==num))\n",
    "\n",
    "arr = np.array([1,2,13,4,5,34,6,7,8,5,44,6,45,4,4,3,22,2,2,2])\n",
    "\n",
    "print(countSpecificNum(arr, 2))"
   ]
  },
  {
   "cell_type": "markdown",
   "metadata": {},
   "source": [
    "**Exercise 24:**\n",
    "\n",
    "Replace all values in a 1D array with the mean of the array."
   ]
  },
  {
   "cell_type": "code",
   "execution_count": 102,
   "metadata": {},
   "outputs": [
    {
     "name": "stdout",
     "output_type": "stream",
     "text": [
      "[10 10 10 10 10 10 10 10 10 10 10 10 10 10 10 10 10 10 10 10]\n"
     ]
    }
   ],
   "source": [
    "arr = np.array([1,2,13,4,5,34,6,7,8,5,44,6,45,4,4,3,22,2,2,2])\n",
    "\n",
    "arr[:] = np.mean(arr)\n",
    "\n",
    "print(arr)"
   ]
  },
  {
   "cell_type": "markdown",
   "metadata": {},
   "source": [
    "**Exercise 25:**\n",
    "\n",
    "Find the indices of the maximum and minimum values in a 1D array."
   ]
  },
  {
   "cell_type": "code",
   "execution_count": 103,
   "metadata": {},
   "outputs": [
    {
     "name": "stdout",
     "output_type": "stream",
     "text": [
      "0 6\n"
     ]
    }
   ],
   "source": [
    "arr = np.array([1,2,4,3,546,45,634,324,2,234,5,3,35,65,6,7,5,34,34,6,36,36,36,3,74,86,85])\n",
    "\n",
    "min = np.argmin(arr)\n",
    "\n",
    "max = np.argmax(arr)\n",
    "\n",
    "print(min, max)"
   ]
  },
  {
   "cell_type": "markdown",
   "metadata": {},
   "source": [
    "**Exercise 26:**\n",
    "\n",
    "Create a 2D array with 1 on the border and 0 inside."
   ]
  },
  {
   "cell_type": "code",
   "execution_count": 104,
   "metadata": {},
   "outputs": [
    {
     "data": {
      "text/plain": [
       "array([[1., 1., 1., 1., 1.],\n",
       "       [1., 0., 0., 0., 1.],\n",
       "       [1., 0., 0., 0., 1.],\n",
       "       [1., 0., 0., 0., 1.],\n",
       "       [1., 1., 1., 1., 1.]])"
      ]
     },
     "execution_count": 104,
     "metadata": {},
     "output_type": "execute_result"
    }
   ],
   "source": [
    "arr = np.ones((5,5))\n",
    "\n",
    "arr[1:-1, 1:-1] = 0\n",
    "\n",
    "arr"
   ]
  },
  {
   "cell_type": "markdown",
   "metadata": {},
   "source": [
    "**Exercise 27:**\n",
    "\n",
    "Find the unique values and their counts in a 1D array."
   ]
  },
  {
   "cell_type": "code",
   "execution_count": 105,
   "metadata": {},
   "outputs": [
    {
     "name": "stdout",
     "output_type": "stream",
     "text": [
      "[ 1  2  3  4  5  6 33 53]\n",
      "[3 4 7 4 3 2 1 1]\n"
     ]
    }
   ],
   "source": [
    "arr = np.array([1,2,1,33,1,3,3,4,3,4,5,6,4,5,6,5,3,3,53,3,2,4,3,2,2])\n",
    "\n",
    "unique, counts = np.unique(arr, return_counts=True)\n",
    "\n",
    "print(unique)\n",
    "\n",
    "print(counts)"
   ]
  },
  {
   "cell_type": "markdown",
   "metadata": {},
   "source": [
    "**Exercise 28:**\n",
    "\n",
    "Create a 3x3 matrix with values ranging from 0 to 8."
   ]
  },
  {
   "cell_type": "code",
   "execution_count": 106,
   "metadata": {},
   "outputs": [
    {
     "data": {
      "text/plain": [
       "array([[0, 1, 2],\n",
       "       [3, 4, 5],\n",
       "       [6, 7, 8]])"
      ]
     },
     "execution_count": 106,
     "metadata": {},
     "output_type": "execute_result"
    }
   ],
   "source": [
    "arr = np.arange(9).reshape(3,3)\n",
    "\n",
    "arr"
   ]
  },
  {
   "cell_type": "markdown",
   "metadata": {},
   "source": [
    "**Exercise 29:**\n",
    "\n",
    "Calculate the exponential of all elements in a 1D array."
   ]
  },
  {
   "cell_type": "code",
   "execution_count": 107,
   "metadata": {},
   "outputs": [
    {
     "name": "stdout",
     "output_type": "stream",
     "text": [
      "[  2.71828183   7.3890561   20.08553692  54.59815003 148.4131591 ]\n"
     ]
    }
   ],
   "source": [
    "arr = np.array([1, 2, 3, 4, 5])\n",
    "\n",
    "exponential_arr = np.exp(arr)\n",
    "\n",
    "print(exponential_arr)"
   ]
  },
  {
   "cell_type": "markdown",
   "metadata": {},
   "source": [
    "**Exercise 30:**\n",
    "\n",
    "Swap two rows in a 2D array."
   ]
  },
  {
   "cell_type": "code",
   "execution_count": 108,
   "metadata": {},
   "outputs": [
    {
     "data": {
      "text/plain": [
       "array([[ 0,  1,  2,  3,  4],\n",
       "       [10, 11, 12, 13, 14],\n",
       "       [ 5,  6,  7,  8,  9]])"
      ]
     },
     "execution_count": 108,
     "metadata": {},
     "output_type": "execute_result"
    }
   ],
   "source": [
    "arr = np.array(range(15)).reshape(3,5)\n",
    "\n",
    "arr[[1,2]] = arr[[2,1]]\n",
    "\n",
    "arr"
   ]
  },
  {
   "cell_type": "markdown",
   "metadata": {},
   "source": [
    "**Exercise 31:**\n",
    "\n",
    "Create a random 3x3 matrix and replace all values greater than 0.5 with 1 and all others with 0."
   ]
  },
  {
   "cell_type": "code",
   "execution_count": 109,
   "metadata": {},
   "outputs": [
    {
     "data": {
      "text/plain": [
       "array([[0., 0., 1.],\n",
       "       [1., 0., 1.],\n",
       "       [1., 0., 0.]])"
      ]
     },
     "execution_count": 109,
     "metadata": {},
     "output_type": "execute_result"
    }
   ],
   "source": [
    "arr = np.random.random((3,3))\n",
    "\n",
    "arr[arr > 0.5] = 1\n",
    "\n",
    "arr[arr <=0.5] = 0\n",
    "\n",
    "arr"
   ]
  },
  {
   "cell_type": "markdown",
   "metadata": {},
   "source": [
    "**Exercise 32:**\n",
    "\n",
    "Find the indices of the top N maximum values in a 1D array."
   ]
  },
  {
   "cell_type": "code",
   "execution_count": 110,
   "metadata": {},
   "outputs": [
    {
     "data": {
      "text/plain": [
       "array([10,  5, 14, 13,  3])"
      ]
     },
     "execution_count": 110,
     "metadata": {},
     "output_type": "execute_result"
    }
   ],
   "source": [
    "arr = np.array([1,2,3,345,4,6,5,4,3,3,5,3,3,42,41,2,5,2])\n",
    "\n",
    "top_indices = np.argsort(arr)[-5:]\n",
    "\n",
    "top_indices"
   ]
  },
  {
   "cell_type": "markdown",
   "metadata": {},
   "source": [
    "**Exercise 33:**\n",
    "\n",
    "Calculate the mean of each column in a 2D array.\n"
   ]
  },
  {
   "cell_type": "code",
   "execution_count": 111,
   "metadata": {},
   "outputs": [
    {
     "name": "stdout",
     "output_type": "stream",
     "text": [
      "[[ 0  1  2]\n",
      " [ 3  4  5]\n",
      " [ 6  7  8]\n",
      " [ 9 10 11]\n",
      " [12 13 14]]\n",
      "[6. 7. 8.]\n"
     ]
    }
   ],
   "source": [
    "matrix = np.arange(15).reshape(5,3)\n",
    "\n",
    "print(matrix)\n",
    "\n",
    "column_means = np.mean(matrix, axis=0)\n",
    "\n",
    "print(column_means)"
   ]
  },
  {
   "cell_type": "markdown",
   "metadata": {},
   "source": [
    "**Exercise 34:**\n",
    "\n",
    "Normalize the values in each column of a 2D array."
   ]
  },
  {
   "cell_type": "code",
   "execution_count": 112,
   "metadata": {},
   "outputs": [
    {
     "name": "stdout",
     "output_type": "stream",
     "text": [
      "[[ 0  1  2]\n",
      " [ 3  4  5]\n",
      " [ 6  7  8]\n",
      " [ 9 10 11]\n",
      " [12 13 14]]\n",
      "[[-1.41421356 -1.41421356 -1.41421356]\n",
      " [-0.70710678 -0.70710678 -0.70710678]\n",
      " [ 0.          0.          0.        ]\n",
      " [ 0.70710678  0.70710678  0.70710678]\n",
      " [ 1.41421356  1.41421356  1.41421356]]\n"
     ]
    }
   ],
   "source": [
    "matrix = np.arange(15).reshape(5,3)\n",
    "\n",
    "print(matrix)\n",
    "\n",
    "normalized_matrix = (matrix - np.mean(matrix, axis=0))/np.std(matrix,axis=0)\n",
    "\n",
    "print(normalized_matrix)"
   ]
  },
  {
   "cell_type": "markdown",
   "metadata": {},
   "source": [
    "**Exercise 35:**\n",
    "\n",
    "Concatenate two 1D arrays."
   ]
  },
  {
   "cell_type": "code",
   "execution_count": 113,
   "metadata": {},
   "outputs": [
    {
     "name": "stdout",
     "output_type": "stream",
     "text": [
      "[1 2 3 4 5 6]\n"
     ]
    }
   ],
   "source": [
    "arr1 = np.array([1, 2, 3])\n",
    "\n",
    "arr2 = np.array([4, 5, 6])\n",
    "\n",
    "concatenated_arr = np.concatenate((arr1, arr2))\n",
    "\n",
    "print(concatenated_arr)"
   ]
  },
  {
   "cell_type": "markdown",
   "metadata": {},
   "source": [
    "**Exercise 36:**\n",
    "\n",
    "Create a 2D array with random values and sort each row."
   ]
  },
  {
   "cell_type": "code",
   "execution_count": 114,
   "metadata": {},
   "outputs": [
    {
     "name": "stdout",
     "output_type": "stream",
     "text": [
      "[[ 1  2  4  5 43  3  2  4  4]\n",
      " [ 2  2  1  1  1  4  6  7  4]]\n",
      "[[ 1  2  2  3  4  4  4  5 43]\n",
      " [ 1  1  1  2  2  4  4  6  7]]\n"
     ]
    }
   ],
   "source": [
    "arr = np.array([1,2,4,5,43,3,2,4,4,2,2,1,1,1,4,6,7,4]).reshape(2,-1)\n",
    "\n",
    "print(arr)\n",
    "\n",
    "sorted_arr = np.sort(arr, axis=1)\n",
    "\n",
    "print(sorted_arr)"
   ]
  },
  {
   "cell_type": "markdown",
   "metadata": {},
   "source": [
    "**Exercise 37:**\n",
    "\n",
    "Compute the mean squared error between two arrays."
   ]
  },
  {
   "cell_type": "code",
   "execution_count": 115,
   "metadata": {},
   "outputs": [
    {
     "name": "stdout",
     "output_type": "stream",
     "text": [
      "1.0\n"
     ]
    }
   ],
   "source": [
    "arr1 = np.array([1, 2, 3, 4])\n",
    "\n",
    "arr2 = np.array([2, 3, 4, 5])\n",
    "\n",
    "mse = np.mean((arr1-arr2)**2)\n",
    "\n",
    "print(mse)"
   ]
  },
  {
   "cell_type": "markdown",
   "metadata": {},
   "source": [
    "**Exercise 38:**\n",
    "\n",
    "Replace all negative values in an array with 0."
   ]
  },
  {
   "cell_type": "code",
   "execution_count": 116,
   "metadata": {},
   "outputs": [
    {
     "data": {
      "text/plain": [
       "array([ 1,  2,  1,  3,  2,  2,  3,  0,  0,  0, 43,  3,  4,  3,  3,  0,  2])"
      ]
     },
     "execution_count": 116,
     "metadata": {},
     "output_type": "execute_result"
    }
   ],
   "source": [
    "arr = np.array([1,2,1,3,2,2,3,-1,-3,-53,43,3,4,3,3,-45,2])\n",
    "\n",
    "arr[arr<0] = 0\n",
    "\n",
    "arr"
   ]
  },
  {
   "cell_type": "markdown",
   "metadata": {},
   "source": [
    "**Exercise 39:**\n",
    "\n",
    "Find the 5th and 95th percentiles of an array."
   ]
  },
  {
   "cell_type": "code",
   "execution_count": 117,
   "metadata": {},
   "outputs": [
    {
     "name": "stdout",
     "output_type": "stream",
     "text": [
      "5th Percentile: 2.0\n",
      "95th Percentile: 8.899999999999999\n"
     ]
    }
   ],
   "source": [
    "arr = np.array([1,2,2,4,4,3,4,3,2,4,5,6,6,5,7,8,9,9,7,6,5,5,5])\n",
    "\n",
    "percentile_5th = np.percentile(arr, 5)\n",
    "\n",
    "percentile_95th = np.percentile(arr, 95)\n",
    "\n",
    "print(\"5th Percentile:\", percentile_5th)\n",
    "\n",
    "print(\"95th Percentile:\", percentile_95th)"
   ]
  },
  {
   "cell_type": "markdown",
   "metadata": {},
   "source": [
    "**Exercise 40:**\n",
    "\n",
    "Create a random 2x2 matrix and compute its determinant."
   ]
  },
  {
   "cell_type": "code",
   "execution_count": 118,
   "metadata": {},
   "outputs": [
    {
     "data": {
      "text/plain": [
       "np.float64(-0.33597499420634197)"
      ]
     },
     "execution_count": 118,
     "metadata": {},
     "output_type": "execute_result"
    }
   ],
   "source": [
    "matrix = np.random.random((3,3))\n",
    "\n",
    "det = np.linalg.det(matrix)\n",
    "\n",
    "det"
   ]
  },
  {
   "cell_type": "markdown",
   "metadata": {},
   "source": [
    "**Exercise 41:**\n",
    "\n",
    "Count the number of elements in an array that are greater than the mean."
   ]
  },
  {
   "cell_type": "code",
   "execution_count": 119,
   "metadata": {},
   "outputs": [
    {
     "data": {
      "text/plain": [
       "np.int64(5)"
      ]
     },
     "execution_count": 119,
     "metadata": {},
     "output_type": "execute_result"
    }
   ],
   "source": [
    "arr = np.arange(10)\n",
    "\n",
    "mean = np.mean(arr)\n",
    "\n",
    "count_above_mean = np.sum(arr > mean)\n",
    "\n",
    "count_above_mean"
   ]
  },
  {
   "cell_type": "markdown",
   "metadata": {},
   "source": [
    "**Exercise 42:**\n",
    "\n",
    "Calculate the square root of each element in a 1D array."
   ]
  },
  {
   "cell_type": "code",
   "execution_count": 120,
   "metadata": {},
   "outputs": [
    {
     "data": {
      "text/plain": [
       "array([0.        , 1.        , 1.41421356, 1.73205081, 2.        ,\n",
       "       2.23606798, 2.44948974, 2.64575131, 2.82842712, 3.        ])"
      ]
     },
     "execution_count": 120,
     "metadata": {},
     "output_type": "execute_result"
    }
   ],
   "source": [
    "arr = np.arange(10)\n",
    "\n",
    "sqrt_arr = np.sqrt(arr)\n",
    "\n",
    "sqrt_arr"
   ]
  },
  {
   "cell_type": "markdown",
   "metadata": {},
   "source": [
    "**Exercise 43:**\n",
    "\n",
    "Create a 3x3 matrix and compute the matrix square root."
   ]
  },
  {
   "cell_type": "code",
   "execution_count": 121,
   "metadata": {},
   "outputs": [
    {
     "data": {
      "text/plain": [
       "array([[ 15,  18,  21],\n",
       "       [ 42,  54,  66],\n",
       "       [ 69,  90, 111]])"
      ]
     },
     "execution_count": 121,
     "metadata": {},
     "output_type": "execute_result"
    }
   ],
   "source": [
    "matrix = np.arange(9).reshape(3,3)\n",
    "\n",
    "matrix_sqrt = np.linalg.matrix_power(matrix, 2)\n",
    "\n",
    "matrix_sqrt"
   ]
  },
  {
   "cell_type": "markdown",
   "metadata": {},
   "source": [
    "**Exercise 44:**\n",
    "\n",
    "Convert the data type of an array to float."
   ]
  },
  {
   "cell_type": "code",
   "execution_count": 122,
   "metadata": {},
   "outputs": [
    {
     "name": "stdout",
     "output_type": "stream",
     "text": [
      "[1. 2. 3. 4.]\n"
     ]
    }
   ],
   "source": [
    "arr = np.array([1, 2, 3, 4], dtype=int)\n",
    "\n",
    "float_arr = arr.astype(float)\n",
    "\n",
    "print(float_arr)"
   ]
  },
  {
   "cell_type": "markdown",
   "metadata": {},
   "source": [
    "**Exercise 45:**\n",
    "\n",
    "Calculate the element-wise absolute values of an array."
   ]
  },
  {
   "cell_type": "code",
   "execution_count": 123,
   "metadata": {},
   "outputs": [
    {
     "data": {
      "text/plain": [
       "array([0.31185165, 0.61674077, 0.81222901, 0.28951428, 0.46198019,\n",
       "       0.09033235, 0.51626975, 0.37368957, 0.51384   , 0.50407205])"
      ]
     },
     "execution_count": 123,
     "metadata": {},
     "output_type": "execute_result"
    }
   ],
   "source": [
    "arr = np.random.random(10)\n",
    "\n",
    "arr = np.abs(arr)\n",
    "\n",
    "arr"
   ]
  },
  {
   "cell_type": "markdown",
   "metadata": {},
   "source": [
    "**Exercise 46:**\n",
    "\n",
    "Find the indices where elements of two arrays match."
   ]
  },
  {
   "cell_type": "code",
   "execution_count": 124,
   "metadata": {},
   "outputs": [
    {
     "data": {
      "text/plain": [
       "(array([0, 1, 3, 4]),)"
      ]
     },
     "execution_count": 124,
     "metadata": {},
     "output_type": "execute_result"
    }
   ],
   "source": [
    "arr1 = np.array([1,2,6,4,5])\n",
    "\n",
    "arr2 = np.array([1,2,3,4,5])\n",
    "\n",
    "intersection = np.where(arr1 == arr2)\n",
    "\n",
    "intersection"
   ]
  },
  {
   "cell_type": "markdown",
   "metadata": {},
   "source": [
    "**Exercise 47:**\n",
    "\n",
    "Calculate the cumulative sum of elements in a 1D array."
   ]
  },
  {
   "cell_type": "code",
   "execution_count": 125,
   "metadata": {},
   "outputs": [
    {
     "name": "stdout",
     "output_type": "stream",
     "text": [
      "[ 1  3  6 10 15]\n"
     ]
    }
   ],
   "source": [
    "arr = np.array([1, 2, 3, 4, 5])\n",
    "\n",
    "cumulative_sum = np.cumsum(arr)\n",
    "\n",
    "print(cumulative_sum)"
   ]
  },
  {
   "cell_type": "markdown",
   "metadata": {},
   "source": [
    "**Exercise 48:**\n",
    "\n",
    "Compute the inverse of a 2x2 matrix."
   ]
  },
  {
   "cell_type": "code",
   "execution_count": 126,
   "metadata": {},
   "outputs": [
    {
     "name": "stdout",
     "output_type": "stream",
     "text": [
      "[[-0.19164845  1.50542516]\n",
      " [ 1.38809013 -1.52076013]]\n"
     ]
    }
   ],
   "source": [
    "matrix = np.random.random((2, 2))\n",
    "\n",
    "inverse_matrix = np.linalg.inv(matrix)\n",
    "\n",
    "print(inverse_matrix)"
   ]
  },
  {
   "cell_type": "markdown",
   "metadata": {},
   "source": [
    "**Exercise 49:**\n",
    "\n",
    "Count the number of non-zero elements in a 2D array."
   ]
  },
  {
   "cell_type": "code",
   "execution_count": 127,
   "metadata": {},
   "outputs": [
    {
     "name": "stdout",
     "output_type": "stream",
     "text": [
      "4\n"
     ]
    }
   ],
   "source": [
    "matrix = np.array([[0, 1, 0], [2, 0, 3], [0, 4, 0]])\n",
    "\n",
    "non_zero_count = np.count_nonzero(matrix)\n",
    "\n",
    "print(non_zero_count)"
   ]
  },
  {
   "cell_type": "markdown",
   "metadata": {},
   "source": [
    "**Exercise 50:**\n",
    "\n",
    "Create a 2D array and replace all nan values with 0."
   ]
  },
  {
   "cell_type": "code",
   "execution_count": 128,
   "metadata": {},
   "outputs": [
    {
     "name": "stdout",
     "output_type": "stream",
     "text": [
      "[[1. 0. 3.]\n",
      " [4. 5. 0.]\n",
      " [7. 8. 9.]]\n"
     ]
    }
   ],
   "source": [
    "matrix = np.array([[1, np.nan, 3], [4, 5, np.nan], [7, 8, 9]])\n",
    "\n",
    "matrix[np.isnan(matrix)] = 0\n",
    "\n",
    "print(matrix)"
   ]
  },
  {
   "cell_type": "markdown",
   "metadata": {},
   "source": [
    "**Exercise 51:**\n",
    "\n",
    "Find the correlation coefficient between two arrays."
   ]
  },
  {
   "cell_type": "code",
   "execution_count": 129,
   "metadata": {},
   "outputs": [
    {
     "name": "stdout",
     "output_type": "stream",
     "text": [
      "0.9999999999999999\n"
     ]
    }
   ],
   "source": [
    "arr1 = np.array([1, 2, 3, 4, 5])\n",
    "\n",
    "arr2 = np.array([3, 4, 5, 6, 7])\n",
    "\n",
    "correlation_coefficient = np.corrcoef(arr1, arr2)[0, 1]\n",
    "\n",
    "print(correlation_coefficient)"
   ]
  },
  {
   "cell_type": "markdown",
   "metadata": {},
   "source": [
    "**Exercise 52:**\n",
    "\n",
    "Create a 1D array and remove all duplicate values."
   ]
  },
  {
   "cell_type": "code",
   "execution_count": 130,
   "metadata": {},
   "outputs": [
    {
     "name": "stdout",
     "output_type": "stream",
     "text": [
      "[1 2 3 4 5]\n"
     ]
    }
   ],
   "source": [
    "arr = np.array([1, 2, 3, 2, 4, 5, 1])\n",
    "\n",
    "unique_arr = np.unique(arr)\n",
    "\n",
    "print(unique_arr)"
   ]
  },
  {
   "cell_type": "markdown",
   "metadata": {},
   "source": [
    "**Exercise 53:**\n",
    "\n",
    "Compute the element-wise product of two arrays."
   ]
  },
  {
   "cell_type": "code",
   "execution_count": 131,
   "metadata": {},
   "outputs": [
    {
     "name": "stdout",
     "output_type": "stream",
     "text": [
      "[ 4 10 18]\n"
     ]
    }
   ],
   "source": [
    "arr1 = np.array([1, 2, 3])\n",
    "\n",
    "arr2 = np.array([4, 5, 6])\n",
    "\n",
    "elementwise_product = np.multiply(arr1, arr2)\n",
    "\n",
    "print(elementwise_product)"
   ]
  },
  {
   "cell_type": "markdown",
   "metadata": {},
   "source": [
    "**Exercise 54:**\n",
    "\n",
    "Calculate the standard deviation of each column in a 2D array."
   ]
  },
  {
   "cell_type": "code",
   "execution_count": 132,
   "metadata": {},
   "outputs": [
    {
     "name": "stdout",
     "output_type": "stream",
     "text": [
      "[0.23174062 0.20571746 0.1133317 ]\n"
     ]
    }
   ],
   "source": [
    "matrix = np.random.random((4, 3))\n",
    "\n",
    "column_stddev = np.std(matrix, axis=0)\n",
    "\n",
    "print(column_stddev)"
   ]
  },
  {
   "cell_type": "markdown",
   "metadata": {},
   "source": [
    "**Exercise 55:**\n",
    "\n",
    "Create a 2D array and set all values above a certain threshold to that threshold."
   ]
  },
  {
   "cell_type": "code",
   "execution_count": 133,
   "metadata": {},
   "outputs": [
    {
     "data": {
      "text/plain": [
       "array([[0.7       , 0.7       , 0.61664415, 0.36153169, 0.7       ],\n",
       "       [0.34058178, 0.60615516, 0.25606929, 0.48004909, 0.4160477 ],\n",
       "       [0.21846163, 0.63571649, 0.7       , 0.69989727, 0.7       ],\n",
       "       [0.7       , 0.28382798, 0.07672507, 0.33055863, 0.7       ],\n",
       "       [0.13652981, 0.15322908, 0.5089672 , 0.1759915 , 0.69817983]])"
      ]
     },
     "execution_count": 133,
     "metadata": {},
     "output_type": "execute_result"
    }
   ],
   "source": [
    "matrix = np.random.random((5,5))\n",
    "\n",
    "threshold = 0.7\n",
    "\n",
    "matrix[matrix > threshold] = threshold\n",
    "\n",
    "matrix"
   ]
  },
  {
   "cell_type": "markdown",
   "metadata": {},
   "source": [
    "**Exercise 56:**\n",
    "\n",
    "Create a random 5x5 matrix and replace the maximum value by -1."
   ]
  },
  {
   "cell_type": "code",
   "execution_count": 134,
   "metadata": {},
   "outputs": [
    {
     "data": {
      "text/plain": [
       "array([[ 0.65844028,  0.06966707,  0.79188262,  0.72509655,  0.54358994],\n",
       "       [ 0.41006894,  0.7731639 ,  0.55467873, -1.        ,  0.02983383],\n",
       "       [ 0.76918083,  0.07298825,  0.40447898,  0.83341763,  0.2715571 ],\n",
       "       [ 0.67597477,  0.60860731,  0.05866259,  0.8353305 ,  0.28681344],\n",
       "       [ 0.01963475,  0.00940313,  0.54897905,  0.51532883,  0.85243046]])"
      ]
     },
     "execution_count": 134,
     "metadata": {},
     "output_type": "execute_result"
    }
   ],
   "source": [
    "matrix = np.random.random((5,5))\n",
    "\n",
    "max_val_index = np.unravel_index(np.argmax(matrix), matrix.shape)\n",
    "\n",
    "matrix[max_val_index] = -1\n",
    "\n",
    "matrix"
   ]
  },
  {
   "cell_type": "markdown",
   "metadata": {},
   "source": [
    "**Exercise 57:**\n",
    "\n",
    "Convert a 1D array of Fahrenheit temperatures to Celsius."
   ]
  },
  {
   "cell_type": "code",
   "execution_count": 135,
   "metadata": {},
   "outputs": [
    {
     "name": "stdout",
     "output_type": "stream",
     "text": [
      "[  0.          20.          37.77777778 100.        ]\n"
     ]
    }
   ],
   "source": [
    "fahrenheit_temps = np.array([32, 68, 100, 212])\n",
    "\n",
    "celsius_temps = (fahrenheit_temps - 32) * 5/9\n",
    "\n",
    "print(celsius_temps)"
   ]
  },
  {
   "cell_type": "markdown",
   "metadata": {},
   "source": [
    "**Exercise 58:**\n",
    "\n",
    "Compute the outer product of two arrays."
   ]
  },
  {
   "cell_type": "code",
   "execution_count": 136,
   "metadata": {},
   "outputs": [
    {
     "name": "stdout",
     "output_type": "stream",
     "text": [
      "[[ 4  5  6]\n",
      " [ 8 10 12]\n",
      " [12 15 18]]\n"
     ]
    }
   ],
   "source": [
    "arr1 = np.array([1, 2, 3])\n",
    "\n",
    "arr2 = np.array([4, 5, 6])\n",
    "\n",
    "outer_product = np.outer(arr1, arr2)\n",
    "\n",
    "print(outer_product)"
   ]
  },
  {
   "cell_type": "markdown",
   "metadata": {},
   "source": [
    "**Exercise 59:**\n",
    "\n",
    "Create a 1D array with 10 equidistant values between 0 and 1."
   ]
  },
  {
   "cell_type": "code",
   "execution_count": 137,
   "metadata": {},
   "outputs": [
    {
     "name": "stdout",
     "output_type": "stream",
     "text": [
      "[0.         0.11111111 0.22222222 0.33333333 0.44444444 0.55555556\n",
      " 0.66666667 0.77777778 0.88888889 1.        ]\n"
     ]
    }
   ],
   "source": [
    "equidistant_arr = np.linspace(0, 1, 10)\n",
    "\n",
    "print(equidistant_arr)"
   ]
  },
  {
   "cell_type": "markdown",
   "metadata": {},
   "source": [
    "**Exercise 60:**\n",
    "\n",
    "Compute the cross product of two 3D arrays."
   ]
  },
  {
   "cell_type": "code",
   "execution_count": 138,
   "metadata": {},
   "outputs": [
    {
     "name": "stdout",
     "output_type": "stream",
     "text": [
      "[-3  6 -3]\n"
     ]
    }
   ],
   "source": [
    "arr1 = np.array([1, 2, 3])\n",
    "\n",
    "arr2 = np.array([4, 5, 6])\n",
    "\n",
    "cross_product = np.cross(arr1, arr2)\n",
    "\n",
    "print(cross_product)"
   ]
  },
  {
   "cell_type": "markdown",
   "metadata": {},
   "source": [
    "**Exercise 61:**\n",
    "\n",
    "Calculate the percentile along a specific axis of a 2D array."
   ]
  },
  {
   "cell_type": "code",
   "execution_count": 139,
   "metadata": {},
   "outputs": [
    {
     "name": "stdout",
     "output_type": "stream",
     "text": [
      "[0.49520653 0.82536149 0.67340904]\n"
     ]
    }
   ],
   "source": [
    "matrix = np.random.random((3, 4))\n",
    "\n",
    "percentiles_axis1 = np.percentile(matrix, 75, axis=1)\n",
    "\n",
    "print(percentiles_axis1)"
   ]
  },
  {
   "cell_type": "markdown",
   "metadata": {},
   "source": [
    "**Exercise 62:**\n",
    "\n",
    "Create a 1D array and add a border of 0s around it."
   ]
  },
  {
   "cell_type": "code",
   "execution_count": 140,
   "metadata": {},
   "outputs": [
    {
     "name": "stdout",
     "output_type": "stream",
     "text": [
      "[0 1 2 3 4 0]\n"
     ]
    }
   ],
   "source": [
    "arr = np.array([1, 2, 3, 4])\n",
    "\n",
    "arr_with_border = np.pad(arr, (1, 1), mode='constant', constant_values=0)\n",
    "\n",
    "print(arr_with_border)"
   ]
  },
  {
   "cell_type": "markdown",
   "metadata": {},
   "source": [
    "**Exercise 63:**\n",
    "\n",
    "Compute the histogram of a 1D array."
   ]
  },
  {
   "cell_type": "code",
   "execution_count": 141,
   "metadata": {},
   "outputs": [
    {
     "name": "stdout",
     "output_type": "stream",
     "text": [
      "Histogram: [2 3 4]\n",
      "Bin edges: [1 2 3 4]\n"
     ]
    }
   ],
   "source": [
    "arr = np.array([1, 1, 2, 2, 2, 3, 3, 3, 3])\n",
    "\n",
    "hist, bins = np.histogram(arr, bins=[1, 2, 3, 4])\n",
    "\n",
    "print(\"Histogram:\", hist)\n",
    "\n",
    "print(\"Bin edges:\", bins)"
   ]
  },
  {
   "cell_type": "markdown",
   "metadata": {},
   "source": [
    "**Exercise 64:**\n",
    "\n",
    "Create a 2D array with random values and normalize each row."
   ]
  },
  {
   "cell_type": "code",
   "execution_count": 142,
   "metadata": {},
   "outputs": [
    {
     "name": "stdout",
     "output_type": "stream",
     "text": [
      "[[0.39361705 0.26406977 0.88052983]\n",
      " [0.47796161 0.58025384 0.65943777]\n",
      " [0.72243792 0.45736546 0.51855597]\n",
      " [0.63511903 0.51800677 0.57296842]]\n"
     ]
    }
   ],
   "source": [
    "matrix = np.random.random((4, 3))\n",
    "\n",
    "normalized_rows = matrix / np.linalg.norm(matrix, axis=1, keepdims=True)\n",
    "\n",
    "print(normalized_rows)"
   ]
  },
  {
   "cell_type": "markdown",
   "metadata": {},
   "source": [
    "**Exercise 65:**\n",
    "\n",
    "Create a random 2D array and sort it by the second column."
   ]
  },
  {
   "cell_type": "code",
   "execution_count": 143,
   "metadata": {},
   "outputs": [
    {
     "name": "stdout",
     "output_type": "stream",
     "text": [
      "[[0.5397669  0.42059072 0.59910447 0.36911212]\n",
      " [0.69595643 0.75800702 0.57659647 0.99641196]\n",
      " [0.70707283 0.94256978 0.12162756 0.72313119]]\n"
     ]
    }
   ],
   "source": [
    "matrix = np.random.random((3, 4))\n",
    "\n",
    "sorted_matrix_by_column2 = matrix[matrix[:, 1].argsort()]\n",
    "\n",
    "print(sorted_matrix_by_column2)"
   ]
  },
  {
   "cell_type": "markdown",
   "metadata": {},
   "source": [
    "**Exercise 66:**\n",
    "\n",
    "Calculate the determinant of a 3x3 matrix."
   ]
  },
  {
   "cell_type": "code",
   "execution_count": 144,
   "metadata": {},
   "outputs": [
    {
     "name": "stdout",
     "output_type": "stream",
     "text": [
      "0.11492573230831755\n"
     ]
    }
   ],
   "source": [
    "matrix = np.random.random((3, 3))\n",
    "\n",
    "determinant = np.linalg.det(matrix)\n",
    "\n",
    "print(determinant)"
   ]
  },
  {
   "cell_type": "markdown",
   "metadata": {},
   "source": [
    "**Exercise 67:**\n",
    "\n",
    "Calculate the element-wise exponentiation of a 1D array."
   ]
  },
  {
   "cell_type": "code",
   "execution_count": 145,
   "metadata": {},
   "outputs": [
    {
     "name": "stdout",
     "output_type": "stream",
     "text": [
      "[ 7.3890561  20.08553692 54.59815003]\n"
     ]
    }
   ],
   "source": [
    "arr = np.array([2, 3, 4])\n",
    "\n",
    "exponentiated_arr = np.exp(arr)\n",
    "\n",
    "print(exponentiated_arr)"
   ]
  },
  {
   "cell_type": "markdown",
   "metadata": {},
   "source": [
    "**Exercise 68:**\n",
    "\n",
    "Calculate the Frobenius norm of a 2D array."
   ]
  },
  {
   "cell_type": "code",
   "execution_count": 146,
   "metadata": {},
   "outputs": [
    {
     "name": "stdout",
     "output_type": "stream",
     "text": [
      "2.31144069977028\n"
     ]
    }
   ],
   "source": [
    "matrix = np.random.random((3, 4))\n",
    "\n",
    "frobenius_norm = np.linalg.norm(matrix)\n",
    "\n",
    "print(frobenius_norm)"
   ]
  },
  {
   "cell_type": "markdown",
   "metadata": {},
   "source": [
    "**Exercise 69:**\n",
    "\n",
    "Create a 2D array with random values and replace the maximum value with the minimum."
   ]
  },
  {
   "cell_type": "code",
   "execution_count": 147,
   "metadata": {},
   "outputs": [
    {
     "name": "stdout",
     "output_type": "stream",
     "text": [
      "[[0.36966875 0.13369273 0.49680474 0.08246654]\n",
      " [0.14499955 0.20420326 0.87398942 0.55191384]\n",
      " [0.08246654 0.24527059 0.24514376 0.36157058]]\n"
     ]
    }
   ],
   "source": [
    "matrix = np.random.random((3, 4))\n",
    "\n",
    "max_value_index = np.unravel_index(np.argmax(matrix), matrix.shape)\n",
    "\n",
    "min_value = np.min(matrix)\n",
    "\n",
    "matrix[max_value_index] = min_value\n",
    "\n",
    "print(matrix)"
   ]
  },
  {
   "cell_type": "markdown",
   "metadata": {},
   "source": [
    "**Exercise 70:**\n",
    "\n",
    "Compute the matrix multiplication of two 2D arrays."
   ]
  },
  {
   "cell_type": "code",
   "execution_count": 148,
   "metadata": {},
   "outputs": [
    {
     "name": "stdout",
     "output_type": "stream",
     "text": [
      "[[0.26295296 1.2221307  1.44507405 1.35712679 0.96082222]\n",
      " [0.23977892 1.31504053 1.6159018  1.44164087 1.02755   ]\n",
      " [0.22443044 1.06504316 1.00676121 1.23954536 1.03785833]]\n"
     ]
    }
   ],
   "source": [
    "matrix1 = np.random.random((3, 4))\n",
    "\n",
    "matrix2 = np.random.random((4, 5))\n",
    "\n",
    "matrix_multiplication = np.dot(matrix1, matrix2)\n",
    "\n",
    "print(matrix_multiplication)"
   ]
  },
  {
   "cell_type": "markdown",
   "metadata": {},
   "source": [
    "**Exercise 71:**\n",
    "\n",
    "Create a 1D array and set the values between 10 and 20 to 0."
   ]
  },
  {
   "cell_type": "code",
   "execution_count": 149,
   "metadata": {},
   "outputs": [
    {
     "name": "stdout",
     "output_type": "stream",
     "text": [
      "[ 5  0  0  0 25]\n"
     ]
    }
   ],
   "source": [
    "arr = np.array([5, 15, 12, 18, 25])\n",
    "\n",
    "arr[(arr >= 10) & (arr <= 20)] = 0\n",
    "\n",
    "print(arr)"
   ]
  },
  {
   "cell_type": "markdown",
   "metadata": {},
   "source": [
    "**Exercise 72:**\n",
    "\n",
    "Compute the inverse hyperbolic sine of each element in a 1D array."
   ]
  },
  {
   "cell_type": "code",
   "execution_count": 150,
   "metadata": {},
   "outputs": [
    {
     "name": "stdout",
     "output_type": "stream",
     "text": [
      "[0.88137359 1.44363548 1.81844646 2.09471255]\n"
     ]
    }
   ],
   "source": [
    "arr = np.array([1, 2, 3, 4])\n",
    "\n",
    "inverse_sineh_arr = np.arcsinh(arr)\n",
    "\n",
    "print(inverse_sineh_arr)"
   ]
  },
  {
   "cell_type": "markdown",
   "metadata": {},
   "source": [
    "**Exercise 73:**\n",
    "\n",
    "Compute the Kronecker product of two arrays."
   ]
  },
  {
   "cell_type": "code",
   "execution_count": 151,
   "metadata": {},
   "outputs": [
    {
     "name": "stdout",
     "output_type": "stream",
     "text": [
      "[3 4 6 8]\n"
     ]
    }
   ],
   "source": [
    "arr1 = np.array([1, 2])\n",
    "\n",
    "arr2 = np.array([3, 4])\n",
    "\n",
    "kronecker_product = np.kron(arr1, arr2)\n",
    "\n",
    "print(kronecker_product)"
   ]
  },
  {
   "cell_type": "markdown",
   "metadata": {},
   "source": [
    "**Exercise 74:**\n",
    "\n",
    "Calculate the mean absolute deviation of a 1D array."
   ]
  },
  {
   "cell_type": "code",
   "execution_count": 152,
   "metadata": {},
   "outputs": [
    {
     "name": "stdout",
     "output_type": "stream",
     "text": [
      "1.2\n"
     ]
    }
   ],
   "source": [
    "arr = np.array([1, 2, 3, 4, 5])\n",
    "\n",
    "mean_absolute_deviation = np.mean(np.abs(arr - np.mean(arr)))\n",
    "\n",
    "print(mean_absolute_deviation)"
   ]
  },
  {
   "cell_type": "markdown",
   "metadata": {},
   "source": [
    "**Exercise 75:**\n",
    "\n",
    "Create a 3x3 matrix and set all values above the main diagonal to zero."
   ]
  },
  {
   "cell_type": "code",
   "execution_count": 153,
   "metadata": {},
   "outputs": [
    {
     "name": "stdout",
     "output_type": "stream",
     "text": [
      "[[0.2002779  0.         0.        ]\n",
      " [0.9133617  0.68914002 0.        ]\n",
      " [0.00822214 0.28599613 0.96752018]]\n"
     ]
    }
   ],
   "source": [
    "matrix = np.random.random((3, 3))\n",
    "\n",
    "matrix[np.triu_indices(3, 1)] = 0\n",
    "\n",
    "print(matrix)\n"
   ]
  },
  {
   "cell_type": "markdown",
   "metadata": {},
   "source": [
    "**Exercise 76:**\n",
    "\n",
    "Count the number of occurrences of each unique value in a 1D array."
   ]
  },
  {
   "cell_type": "code",
   "execution_count": 154,
   "metadata": {},
   "outputs": [
    {
     "name": "stdout",
     "output_type": "stream",
     "text": [
      "Unique values: [1 2 3 4]\n",
      "Counts: [1 2 3 1]\n"
     ]
    }
   ],
   "source": [
    "arr = np.array([2, 2, 1, 3, 3, 3, 4])\n",
    "\n",
    "unique_values, counts = np.unique(arr, return_counts=True)\n",
    "\n",
    "print(\"Unique values:\", unique_values)\n",
    "\n",
    "print(\"Counts:\", counts)"
   ]
  },
  {
   "cell_type": "markdown",
   "metadata": {},
   "source": [
    "**Exercise 77:**\n",
    "\n",
    "Compute the cumulative product of elements along a given axis in a 2D array."
   ]
  },
  {
   "cell_type": "code",
   "execution_count": 155,
   "metadata": {},
   "outputs": [
    {
     "name": "stdout",
     "output_type": "stream",
     "text": [
      "[[0.06998515 0.15095811 0.85915806 0.64004544]\n",
      " [0.00333249 0.05832544 0.6219033  0.2224238 ]\n",
      " [0.00177066 0.0386447  0.02331987 0.16742843]]\n"
     ]
    }
   ],
   "source": [
    "matrix = np.random.random((3, 4))\n",
    "\n",
    "cumulative_product_axis0 = np.cumprod(matrix, axis=0)\n",
    "\n",
    "print(cumulative_product_axis0)"
   ]
  },
  {
   "cell_type": "markdown",
   "metadata": {},
   "source": [
    "**Exercise 78:**\n",
    "\n",
    "Round elements of a 1D array to the nearest integer."
   ]
  },
  {
   "cell_type": "code",
   "execution_count": 156,
   "metadata": {},
   "outputs": [
    {
     "name": "stdout",
     "output_type": "stream",
     "text": [
      "[1. 3. 4. 5.]\n"
     ]
    }
   ],
   "source": [
    "arr = np.array([1.2, 2.7, 3.5, 4.9])\n",
    "\n",
    "rounded_arr = np.round(arr)\n",
    "\n",
    "print(rounded_arr)"
   ]
  },
  {
   "cell_type": "markdown",
   "metadata": {},
   "source": [
    "**Exercise 79:**\n",
    "\n",
    "Create a 1D array and append a new element to the end."
   ]
  },
  {
   "cell_type": "code",
   "execution_count": 157,
   "metadata": {},
   "outputs": [
    {
     "name": "stdout",
     "output_type": "stream",
     "text": [
      "[1 2 3 4]\n"
     ]
    }
   ],
   "source": [
    "arr = np.array([1, 2, 3])\n",
    "\n",
    "new_element = 4\n",
    "\n",
    "arr = np.append(arr, new_element)\n",
    "\n",
    "print(arr)"
   ]
  },
  {
   "cell_type": "markdown",
   "metadata": {},
   "source": [
    "**Exercise 80:**\n",
    "\n",
    "Calculate the element-wise absolute difference between two arrays."
   ]
  },
  {
   "cell_type": "code",
   "execution_count": 158,
   "metadata": {},
   "outputs": [
    {
     "name": "stdout",
     "output_type": "stream",
     "text": [
      "[1 2 7 9 3]\n"
     ]
    }
   ],
   "source": [
    "arr1 = np.array([3, 7, 1, 10, 4])\n",
    "\n",
    "arr2 = np.array([2, 5, 8, 1, 7])\n",
    "\n",
    "absolute_difference = np.abs(arr1 - arr2)\n",
    "\n",
    "print(absolute_difference)"
   ]
  },
  {
   "cell_type": "markdown",
   "metadata": {},
   "source": [
    "**Exercise 81:**\n",
    "\n",
    "Create a 2D array with random values and replace the maximum value in each row with -1."
   ]
  },
  {
   "cell_type": "code",
   "execution_count": 159,
   "metadata": {},
   "outputs": [
    {
     "name": "stdout",
     "output_type": "stream",
     "text": [
      "[[-1.          0.66833848  0.19546939  0.15771911]\n",
      " [-1.          0.5865088   0.09942719  0.1740521 ]\n",
      " [ 0.01976112 -1.          0.05670424  0.619874  ]]\n"
     ]
    }
   ],
   "source": [
    "matrix = np.random.random((3, 4))\n",
    "\n",
    "max_values_indices = np.argmax(matrix, axis=1)\n",
    "\n",
    "matrix[np.arange(matrix.shape[0]), max_values_indices] = -1\n",
    "\n",
    "print(matrix)"
   ]
  },
  {
   "cell_type": "markdown",
   "metadata": {},
   "source": [
    "**Exercise 82:**\n",
    "\n",
    "Normalize the columns of a 2D array to have a sum of 1."
   ]
  },
  {
   "cell_type": "code",
   "execution_count": 160,
   "metadata": {},
   "outputs": [
    {
     "name": "stdout",
     "output_type": "stream",
     "text": [
      "[[0.10755237 0.41785867 0.41635855 0.29955895]\n",
      " [0.46510048 0.30574235 0.1930727  0.31329433]\n",
      " [0.42734714 0.27639898 0.39056874 0.38714673]]\n"
     ]
    }
   ],
   "source": [
    "matrix = np.random.random((3, 4))\n",
    "\n",
    "normalized_columns = matrix / np.sum(matrix, axis=0, keepdims=True)\n",
    "\n",
    "print(normalized_columns)"
   ]
  },
  {
   "cell_type": "markdown",
   "metadata": {},
   "source": [
    "**Exercise 83:**\n",
    "\n",
    "Find the indices of the top N minimum values in a 1D array."
   ]
  },
  {
   "cell_type": "code",
   "execution_count": 161,
   "metadata": {},
   "outputs": [
    {
     "name": "stdout",
     "output_type": "stream",
     "text": [
      "[3 1]\n"
     ]
    }
   ],
   "source": [
    "arr = np.array([10, 5, 8, 1, 7])\n",
    "\n",
    "top_indices = np.argsort(arr)[:2]\n",
    "\n",
    "print(top_indices)"
   ]
  },
  {
   "cell_type": "markdown",
   "metadata": {},
   "source": [
    "**Exercise 84:**\n",
    "\n",
    "Convert the elements of a 1D array to strings."
   ]
  },
  {
   "cell_type": "code",
   "execution_count": 162,
   "metadata": {},
   "outputs": [
    {
     "name": "stdout",
     "output_type": "stream",
     "text": [
      "['1' '2' '3' '4']\n"
     ]
    }
   ],
   "source": [
    "arr = np.array([1, 2, 3, 4])\n",
    "\n",
    "string_arr = arr.astype(str)\n",
    "\n",
    "print(string_arr)"
   ]
  },
  {
   "cell_type": "markdown",
   "metadata": {},
   "source": [
    "**Exercise 85:**\n",
    "\n",
    "Compute the percentile rank of each element in a 1D array."
   ]
  },
  {
   "cell_type": "code",
   "execution_count": 163,
   "metadata": {},
   "outputs": [
    {
     "name": "stdout",
     "output_type": "stream",
     "text": [
      "[ 20.  40.  60.  80. 100.]\n"
     ]
    }
   ],
   "source": [
    "from scipy.stats import percentileofscore\n",
    "\n",
    "arr = np.array([1, 2, 3, 4, 5])\n",
    "\n",
    "# Calculate percentile rank for each element in arr\n",
    "\n",
    "percentile_rank = np.array([percentileofscore(arr, value) for value in arr])\n",
    "\n",
    "print(percentile_rank)"
   ]
  },
  {
   "cell_type": "markdown",
   "metadata": {},
   "source": [
    "**Exercise 86:**\n",
    "\n",
    "Create a 1D array and shuffle its elements randomly."
   ]
  },
  {
   "cell_type": "code",
   "execution_count": 164,
   "metadata": {},
   "outputs": [
    {
     "name": "stdout",
     "output_type": "stream",
     "text": [
      "[3 4 2 1 5]\n"
     ]
    }
   ],
   "source": [
    "arr = np.array([1, 2, 3, 4, 5])\n",
    "\n",
    "np.random.shuffle(arr)\n",
    "\n",
    "print(arr)"
   ]
  },
  {
   "cell_type": "markdown",
   "metadata": {},
   "source": [
    "**Exercise 87:**\n",
    "\n",
    "Check if all elements in a 1D array are non-zero."
   ]
  },
  {
   "cell_type": "code",
   "execution_count": 165,
   "metadata": {},
   "outputs": [
    {
     "name": "stdout",
     "output_type": "stream",
     "text": [
      "True\n"
     ]
    }
   ],
   "source": [
    "arr = np.array([1, 2, 3, 4, 5])\n",
    "\n",
    "all_nonzero = np.all(arr != 0)\n",
    "\n",
    "print(all_nonzero)"
   ]
  },
  {
   "cell_type": "markdown",
   "metadata": {},
   "source": [
    "**Exercise 88:**\n",
    "\n",
    "Find the indices of the maximum value in each row of a 2D array."
   ]
  },
  {
   "cell_type": "code",
   "execution_count": 166,
   "metadata": {},
   "outputs": [
    {
     "name": "stdout",
     "output_type": "stream",
     "text": [
      "[1 3 3]\n"
     ]
    }
   ],
   "source": [
    "matrix = np.random.random((3, 4))\n",
    "\n",
    "max_indices_per_row = np.argmax(matrix, axis=1)\n",
    "\n",
    "print(max_indices_per_row)"
   ]
  },
  {
   "cell_type": "markdown",
   "metadata": {},
   "source": [
    "**Exercise 89:**\n",
    "\n",
    "Create a 2D array and replace all nan values with the mean of the array."
   ]
  },
  {
   "cell_type": "code",
   "execution_count": 167,
   "metadata": {},
   "outputs": [
    {
     "name": "stdout",
     "output_type": "stream",
     "text": [
      "[[1.         5.28571429 3.        ]\n",
      " [4.         5.         5.28571429]\n",
      " [7.         8.         9.        ]]\n"
     ]
    }
   ],
   "source": [
    "matrix = np.array([[1, np.nan, 3], [4, 5, np.nan], [7, 8, 9]])\n",
    "\n",
    "nan_mean = np.nanmean(matrix)\n",
    "\n",
    "matrix[np.isnan(matrix)] = nan_mean\n",
    "\n",
    "print(matrix)"
   ]
  },
  {
   "cell_type": "markdown",
   "metadata": {},
   "source": [
    "**Exercise 90:**\n",
    "\n",
    "Calculate the mean of each row in a 2D array ignoring nan values."
   ]
  },
  {
   "cell_type": "code",
   "execution_count": 168,
   "metadata": {},
   "outputs": [
    {
     "name": "stdout",
     "output_type": "stream",
     "text": [
      "[1.5 5.  8. ]\n"
     ]
    }
   ],
   "source": [
    "matrix = np.array([[1, 2, np.nan], [4, np.nan, 6], [7, 8, 9]])\n",
    "\n",
    "row_means_ignore_nan = np.nanmean(matrix, axis=1)\n",
    "\n",
    "print(row_means_ignore_nan)"
   ]
  },
  {
   "cell_type": "markdown",
   "metadata": {},
   "source": [
    "**Exercise 91:**\n",
    "\n",
    "Compute the sum of diagonal elements in a 2D array."
   ]
  },
  {
   "cell_type": "code",
   "execution_count": 169,
   "metadata": {},
   "outputs": [
    {
     "name": "stdout",
     "output_type": "stream",
     "text": [
      "1.3848216665202455\n"
     ]
    }
   ],
   "source": [
    "matrix = np.random.random((3, 3))\n",
    "\n",
    "diagonal_sum = np.trace(matrix)\n",
    "\n",
    "print(diagonal_sum)\n"
   ]
  },
  {
   "cell_type": "markdown",
   "metadata": {},
   "source": [
    "**Exercise 92:**\n",
    "\n",
    "Convert radians to degrees for each element in a 1D array."
   ]
  },
  {
   "cell_type": "code",
   "execution_count": 170,
   "metadata": {},
   "outputs": [
    {
     "name": "stdout",
     "output_type": "stream",
     "text": [
      "[ 90. 180. 270.]\n"
     ]
    }
   ],
   "source": [
    "arr_in_radians = np.array([np.pi/2, np.pi, 3*np.pi/2])\n",
    "\n",
    "arr_in_degrees = np.degrees(arr_in_radians)\n",
    "\n",
    "print(arr_in_degrees)"
   ]
  },
  {
   "cell_type": "markdown",
   "metadata": {},
   "source": [
    "**Exercise 93:**\n",
    "\n",
    "Calculate the pairwise Euclidean distance between two arrays."
   ]
  },
  {
   "cell_type": "code",
   "execution_count": 171,
   "metadata": {},
   "outputs": [
    {
     "name": "stdout",
     "output_type": "stream",
     "text": [
      "5.196152422706632\n"
     ]
    }
   ],
   "source": [
    "arr1 = np.array([1, 2, 3])\n",
    "\n",
    "arr2 = np.array([4, 5, 6])\n",
    "\n",
    "euclidean_distance = np.linalg.norm(arr1 - arr2)\n",
    "\n",
    "print(euclidean_distance)"
   ]
  },
  {
   "cell_type": "markdown",
   "metadata": {},
   "source": [
    "**Exercise 94:**\n",
    "\n",
    "Create a 1D array and set the values between the 25th and 75th percentile to 0."
   ]
  },
  {
   "cell_type": "code",
   "execution_count": 172,
   "metadata": {},
   "outputs": [
    {
     "name": "stdout",
     "output_type": "stream",
     "text": [
      "[10  0  0  0 50]\n"
     ]
    }
   ],
   "source": [
    "arr = np.array([10, 20, 30, 40, 50])\n",
    "\n",
    "percentile_25th = np.percentile(arr, 25)\n",
    "\n",
    "percentile_75th = np.percentile(arr, 75)\n",
    "\n",
    "arr[(arr >= percentile_25th) & (arr <= percentile_75th)] = 0\n",
    "\n",
    "print(arr)"
   ]
  },
  {
   "cell_type": "markdown",
   "metadata": {},
   "source": [
    "**Exercise 95:**\n",
    "\n",
    "Calculate the element-wise square of the difference between two arrays."
   ]
  },
  {
   "cell_type": "code",
   "execution_count": 173,
   "metadata": {},
   "outputs": [
    {
     "name": "stdout",
     "output_type": "stream",
     "text": [
      "[9 9 9]\n"
     ]
    }
   ],
   "source": [
    "arr1 = np.array([1, 2, 3])\n",
    "\n",
    "arr2 = np.array([4, 5, 6])\n",
    "\n",
    "squared_difference = (arr1 - arr2)**2\n",
    "\n",
    "print(squared_difference)"
   ]
  },
  {
   "cell_type": "markdown",
   "metadata": {},
   "source": [
    "**Exercise 96:**\n",
    "\n",
    "Replace all even numbers in a 1D array with the next odd number.\n"
   ]
  },
  {
   "cell_type": "code",
   "execution_count": 174,
   "metadata": {},
   "outputs": [
    {
     "name": "stdout",
     "output_type": "stream",
     "text": [
      "[ 3  5  9 13 15]\n"
     ]
    }
   ],
   "source": [
    "arr = np.array([2, 5, 8, 12, 15])\n",
    "\n",
    "arr[arr % 2 == 0] += 1\n",
    "\n",
    "print(arr)"
   ]
  },
  {
   "cell_type": "markdown",
   "metadata": {},
   "source": [
    "**Exercise 97:**\n",
    "\n",
    "Create a 2D array and normalize each column by its range.."
   ]
  },
  {
   "cell_type": "code",
   "execution_count": 175,
   "metadata": {},
   "outputs": [
    {
     "name": "stdout",
     "output_type": "stream",
     "text": [
      "[[0.         0.87502617 0.69747972 1.        ]\n",
      " [0.14947338 1.         1.         0.        ]\n",
      " [1.         0.         0.         0.82647549]]\n"
     ]
    }
   ],
   "source": [
    "matrix = np.random.random((3, 4))\n",
    "\n",
    "normalized_columns_range = (matrix - np.min(matrix, axis=0)) / (np.max(matrix, axis=0) - np.min(matrix, axis=0))\n",
    "\n",
    "print(normalized_columns_range)"
   ]
  },
  {
   "cell_type": "markdown",
   "metadata": {},
   "source": [
    "**Exercise 98:**\n",
    "\n",
    "Compute the cumulative sum of elements along a given axis in a 2D array."
   ]
  },
  {
   "cell_type": "code",
   "execution_count": 176,
   "metadata": {},
   "outputs": [
    {
     "name": "stdout",
     "output_type": "stream",
     "text": [
      "[[0.0950331  0.73823707 1.49742809 1.7696128 ]\n",
      " [0.35113253 1.02664904 1.95150933 2.13362176]\n",
      " [0.72458396 1.62665096 2.62421113 3.4634039 ]]\n"
     ]
    }
   ],
   "source": [
    "matrix = np.random.random((3, 4))\n",
    "\n",
    "cumulative_sum_axis1 = np.cumsum(matrix, axis=1)\n",
    "\n",
    "print(cumulative_sum_axis1)"
   ]
  },
  {
   "cell_type": "markdown",
   "metadata": {},
   "source": [
    "**Exercise 99:**\n",
    "\n",
    "Check if any element in a 1D array is non-zero."
   ]
  },
  {
   "cell_type": "code",
   "execution_count": 177,
   "metadata": {},
   "outputs": [
    {
     "name": "stdout",
     "output_type": "stream",
     "text": [
      "True\n"
     ]
    }
   ],
   "source": [
    "arr = np.array([0, 0, 0, 1, 0])\n",
    "\n",
    "any_nonzero = np.any(arr != 0)\n",
    "\n",
    "print(any_nonzero)"
   ]
  },
  {
   "cell_type": "markdown",
   "metadata": {},
   "source": [
    "**Exercise 100:**\n",
    "\n",
    "Create a 2D array with random integers and replace all values greater than a certain threshold with that threshold."
   ]
  },
  {
   "cell_type": "code",
   "execution_count": 178,
   "metadata": {},
   "outputs": [
    {
     "name": "stdout",
     "output_type": "stream",
     "text": [
      "[[10 55  0 69]\n",
      " [66 36  0 12]\n",
      " [23 23 16 74]]\n"
     ]
    }
   ],
   "source": [
    "matrix = np.random.randint(0, 100, size=(3, 4))\n",
    "\n",
    "threshold = 75\n",
    "\n",
    "matrix[matrix > threshold] = threshold\n",
    "\n",
    "print(matrix)"
   ]
  }
 ],
 "metadata": {
  "kernelspec": {
   "display_name": "Python 3",
   "language": "python",
   "name": "python3"
  },
  "language_info": {
   "codemirror_mode": {
    "name": "ipython",
    "version": 3
   },
   "file_extension": ".py",
   "mimetype": "text/x-python",
   "name": "python",
   "nbconvert_exporter": "python",
   "pygments_lexer": "ipython3",
   "version": "3.12.7"
  }
 },
 "nbformat": 4,
 "nbformat_minor": 2
}
