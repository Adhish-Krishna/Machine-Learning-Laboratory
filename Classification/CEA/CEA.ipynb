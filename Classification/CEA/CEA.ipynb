{
 "cells": [
  {
   "cell_type": "markdown",
   "metadata": {},
   "source": [
    "## **Candidate Elimination Algorithm**"
   ]
  },
  {
   "cell_type": "markdown",
   "metadata": {},
   "source": [
    "### Data pre-processing"
   ]
  },
  {
   "cell_type": "code",
   "execution_count": 1,
   "metadata": {},
   "outputs": [],
   "source": [
    "import pandas as pd"
   ]
  },
  {
   "cell_type": "code",
   "execution_count": 2,
   "metadata": {},
   "outputs": [
    {
     "name": "stdout",
     "output_type": "stream",
     "text": []
    }
   ],
   "source": [
    "data = pd.read_csv(\"data3.csv\")\n",
    "\n",
    "data"
   ]
  },
  {
   "cell_type": "code",
   "execution_count": 3,
   "metadata": {},
   "outputs": [
    {
     "name": "stdout",
     "output_type": "stream",
     "text": []
    }
   ],
   "source": [
    "features = data.iloc[:, :-1].values\n",
    "\n",
    "features"
   ]
  },
  {
   "cell_type": "code",
   "execution_count": 13,
   "metadata": {},
   "outputs": [
    {
     "name": "stdout",
     "output_type": "stream",
     "text": []
    }
   ],
   "source": [
    "target = data.iloc[:, -1:].values\n",
    "\n",
    "target = target.reshape(-1)\n",
    "\n",
    "target"
   ]
  },
  {
   "cell_type": "markdown",
   "metadata": {},
   "source": [
    "### Algorithm"
   ]
  },
  {
   "cell_type": "markdown",
   "metadata": {},
   "source": [
    "#### Initializing S and G"
   ]
  },
  {
   "cell_type": "code",
   "execution_count": 5,
   "metadata": {},
   "outputs": [
    {
     "name": "stdout",
     "output_type": "stream",
     "text": []
    }
   ],
   "source": [
    "S = features[0]\n",
    "\n",
    "G = [['?' for i in range(len(features[0]))] for j in range(len(features[0]))]\n",
    "\n",
    "print(\"S:\", S)\n",
    "print(\"G:\", G)"
   ]
  },
  {
   "cell_type": "markdown",
   "metadata": {},
   "source": [
    "#### Generalize S"
   ]
  },
  {
   "cell_type": "code",
   "execution_count": 6,
   "metadata": {},
   "outputs": [],
   "source": [
    "def generalizeS(S: list, instance: list)->list:\n",
    "    for i in range(len(instance)):\n",
    "        S[i] = '?' if S[i] != instance[i] else instance[i]\n",
    "    return S"
   ]
  },
  {
   "cell_type": "markdown",
   "metadata": {},
   "source": [
    "#### Check if G is consistant"
   ]
  },
  {
   "cell_type": "code",
   "execution_count": 7,
   "metadata": {},
   "outputs": [],
   "source": [
    "def isConsistentWithS(S: list, instance: list) -> bool:\n",
    "    for i in range(len(instance)):\n",
    "        if S[i] == '?' and instance[i] != '?':\n",
    "            return False\n",
    "        elif S[i] != '?' and instance[i] != '?' and S[i] != instance[i]:\n",
    "            return False\n",
    "    return True"
   ]
  },
  {
   "cell_type": "markdown",
   "metadata": {},
   "source": [
    "#### Specialize G"
   ]
  },
  {
   "cell_type": "code",
   "execution_count": 8,
   "metadata": {},
   "outputs": [],
   "source": [
    "def specializeG(S: list, G: list[list], instance: list)->list[list]:\n",
    "    for i in range(len(G)):\n",
    "        if S[i] != instance[i]:\n",
    "            G[i][i] = S[i]\n",
    "        else:\n",
    "            G[i][i] = '?'\n",
    "    return G"
   ]
  },
  {
   "cell_type": "markdown",
   "metadata": {},
   "source": [
    "#### Remove Inconsistent Hypothesis from G"
   ]
  },
  {
   "cell_type": "code",
   "execution_count": 9,
   "metadata": {},
   "outputs": [],
   "source": [
    "def cleanUpG(S: list, G: list[list])-> list[list]:\n",
    "    i = 0\n",
    "    while i < len(G):\n",
    "        if not isConsistentWithS(S, G[i]):\n",
    "            G.remove(G[i])\n",
    "        elif G[i] == ['?']*len(G[0]):\n",
    "            G.remove(G[i])\n",
    "        else:\n",
    "            i += 1\n",
    "    return G"
   ]
  },
  {
   "cell_type": "markdown",
   "metadata": {},
   "source": [
    "#### Candidate Elimination Algorithm"
   ]
  },
  {
   "cell_type": "code",
   "execution_count": 10,
   "metadata": {},
   "outputs": [],
   "source": [
    "def candidateElimination(S: list, G: list, features: list[list], target: list):\n",
    "    for i in range(len(target)):\n",
    "        if target[i].lower() == 'yes':\n",
    "            S = generalizeS(S, features[i])\n",
    "        elif target[i].lower() == 'no':\n",
    "            G = specializeG(S, G, features[i])\n",
    "            cleanUpG(S, G)\n",
    "        print(f\"Example {i+1}: {target[i]}\")\n",
    "        print(\"Specific Hypothesis:\", S)\n",
    "        print(\"General Hypothesis:\", G)\n",
    "    cleanUpG(S, G)\n",
    "    return S, G\n"
   ]
  },
  {
   "cell_type": "markdown",
   "metadata": {},
   "source": [
    "#### Training the model"
   ]
  },
  {
   "cell_type": "code",
   "execution_count": 11,
   "metadata": {},
   "outputs": [
    {
     "name": "stdout",
     "output_type": "stream",
     "text": []
    }
   ],
   "source": [
    "SH, GH = candidateElimination(S, G, features, target)\n",
    "print(SH)\n",
    "print(GH)"
   ]
  }
 ],
 "metadata": {
  "kernelspec": {
   "display_name": "mllab",
   "language": "python",
   "name": "python3"
  },
  "language_info": {
   "codemirror_mode": {
    "name": "ipython",
    "version": 3
   },
   "file_extension": ".py",
   "mimetype": "text/x-python",
   "name": "python",
   "nbconvert_exporter": "python",
   "pygments_lexer": "ipython3",
   "version": "3.12.8"
  }
 },
 "nbformat": 4,
 "nbformat_minor": 2
}
